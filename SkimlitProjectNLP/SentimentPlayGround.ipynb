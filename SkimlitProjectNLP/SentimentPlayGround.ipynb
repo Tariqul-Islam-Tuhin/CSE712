{
  "nbformat": 4,
  "nbformat_minor": 0,
  "metadata": {
    "colab": {
      "name": "SentimentPlayGround.ipynb",
      "provenance": [],
      "collapsed_sections": []
    },
    "kernelspec": {
      "display_name": "Python 3",
      "name": "python3"
    },
    "accelerator": "GPU"
  },
  "cells": [
    {
      "cell_type": "code",
      "metadata": {
        "colab": {
          "base_uri": "https://localhost:8080/"
        },
        "id": "Uoawl876wYX9",
        "outputId": "4da62f34-5954-425a-ff0c-69c14668d1e8"
      },
      "source": [
        "from google.colab import drive\n",
        "drive.mount('/content/drive')"
      ],
      "execution_count": null,
      "outputs": [
        {
          "output_type": "stream",
          "name": "stdout",
          "text": [
            "Mounted at /content/drive\n"
          ]
        }
      ]
    },
    {
      "cell_type": "code",
      "source": [
        "!python3 --version\n",
        "#python --version"
      ],
      "metadata": {
        "colab": {
          "base_uri": "https://localhost:8080/"
        },
        "id": "2Gd7vGifI0rY",
        "outputId": "1da8a9df-acbe-4e8d-a0fb-79462095130a"
      },
      "execution_count": null,
      "outputs": [
        {
          "output_type": "stream",
          "name": "stdout",
          "text": [
            "Python 3.7.12\n"
          ]
        }
      ]
    },
    {
      "cell_type": "markdown",
      "metadata": {
        "id": "tQGP51bRlBhI"
      },
      "source": [
        "The code block below reads the tweets from google drive. put the tweet on the root folder of your G-drive"
      ]
    },
    {
      "cell_type": "code",
      "metadata": {
        "id": "zYQpKy4zwfBQ",
        "colab": {
          "base_uri": "https://localhost:8080/",
          "height": 496
        },
        "outputId": "f40040ad-0c2e-416b-cbf0-ae84168f6d02"
      },
      "source": [
        "import pandas as pd\n",
        "df = pd.read_csv(\"/content/drive/MyDrive/ml-data/Tweets.csv\")\n",
        "df.head()\n",
        "\n"
      ],
      "execution_count": null,
      "outputs": [
        {
          "output_type": "execute_result",
          "data": {
            "text/html": [
              "\n",
              "  <div id=\"df-2caf3d2c-8eae-44e0-92a6-db8ee6667d95\">\n",
              "    <div class=\"colab-df-container\">\n",
              "      <div>\n",
              "<style scoped>\n",
              "    .dataframe tbody tr th:only-of-type {\n",
              "        vertical-align: middle;\n",
              "    }\n",
              "\n",
              "    .dataframe tbody tr th {\n",
              "        vertical-align: top;\n",
              "    }\n",
              "\n",
              "    .dataframe thead th {\n",
              "        text-align: right;\n",
              "    }\n",
              "</style>\n",
              "<table border=\"1\" class=\"dataframe\">\n",
              "  <thead>\n",
              "    <tr style=\"text-align: right;\">\n",
              "      <th></th>\n",
              "      <th>tweet_id</th>\n",
              "      <th>airline_sentiment</th>\n",
              "      <th>airline_sentiment_confidence</th>\n",
              "      <th>negativereason</th>\n",
              "      <th>negativereason_confidence</th>\n",
              "      <th>airline</th>\n",
              "      <th>airline_sentiment_gold</th>\n",
              "      <th>name</th>\n",
              "      <th>negativereason_gold</th>\n",
              "      <th>retweet_count</th>\n",
              "      <th>text</th>\n",
              "      <th>tweet_coord</th>\n",
              "      <th>tweet_created</th>\n",
              "      <th>tweet_location</th>\n",
              "      <th>user_timezone</th>\n",
              "    </tr>\n",
              "  </thead>\n",
              "  <tbody>\n",
              "    <tr>\n",
              "      <th>0</th>\n",
              "      <td>570306133677760513</td>\n",
              "      <td>neutral</td>\n",
              "      <td>1.0000</td>\n",
              "      <td>NaN</td>\n",
              "      <td>NaN</td>\n",
              "      <td>Virgin America</td>\n",
              "      <td>NaN</td>\n",
              "      <td>cairdin</td>\n",
              "      <td>NaN</td>\n",
              "      <td>0</td>\n",
              "      <td>@VirginAmerica What @dhepburn said.</td>\n",
              "      <td>NaN</td>\n",
              "      <td>2015-02-24 11:35:52 -0800</td>\n",
              "      <td>NaN</td>\n",
              "      <td>Eastern Time (US &amp; Canada)</td>\n",
              "    </tr>\n",
              "    <tr>\n",
              "      <th>1</th>\n",
              "      <td>570301130888122368</td>\n",
              "      <td>positive</td>\n",
              "      <td>0.3486</td>\n",
              "      <td>NaN</td>\n",
              "      <td>0.0000</td>\n",
              "      <td>Virgin America</td>\n",
              "      <td>NaN</td>\n",
              "      <td>jnardino</td>\n",
              "      <td>NaN</td>\n",
              "      <td>0</td>\n",
              "      <td>@VirginAmerica plus you've added commercials t...</td>\n",
              "      <td>NaN</td>\n",
              "      <td>2015-02-24 11:15:59 -0800</td>\n",
              "      <td>NaN</td>\n",
              "      <td>Pacific Time (US &amp; Canada)</td>\n",
              "    </tr>\n",
              "    <tr>\n",
              "      <th>2</th>\n",
              "      <td>570301083672813571</td>\n",
              "      <td>neutral</td>\n",
              "      <td>0.6837</td>\n",
              "      <td>NaN</td>\n",
              "      <td>NaN</td>\n",
              "      <td>Virgin America</td>\n",
              "      <td>NaN</td>\n",
              "      <td>yvonnalynn</td>\n",
              "      <td>NaN</td>\n",
              "      <td>0</td>\n",
              "      <td>@VirginAmerica I didn't today... Must mean I n...</td>\n",
              "      <td>NaN</td>\n",
              "      <td>2015-02-24 11:15:48 -0800</td>\n",
              "      <td>Lets Play</td>\n",
              "      <td>Central Time (US &amp; Canada)</td>\n",
              "    </tr>\n",
              "    <tr>\n",
              "      <th>3</th>\n",
              "      <td>570301031407624196</td>\n",
              "      <td>negative</td>\n",
              "      <td>1.0000</td>\n",
              "      <td>Bad Flight</td>\n",
              "      <td>0.7033</td>\n",
              "      <td>Virgin America</td>\n",
              "      <td>NaN</td>\n",
              "      <td>jnardino</td>\n",
              "      <td>NaN</td>\n",
              "      <td>0</td>\n",
              "      <td>@VirginAmerica it's really aggressive to blast...</td>\n",
              "      <td>NaN</td>\n",
              "      <td>2015-02-24 11:15:36 -0800</td>\n",
              "      <td>NaN</td>\n",
              "      <td>Pacific Time (US &amp; Canada)</td>\n",
              "    </tr>\n",
              "    <tr>\n",
              "      <th>4</th>\n",
              "      <td>570300817074462722</td>\n",
              "      <td>negative</td>\n",
              "      <td>1.0000</td>\n",
              "      <td>Can't Tell</td>\n",
              "      <td>1.0000</td>\n",
              "      <td>Virgin America</td>\n",
              "      <td>NaN</td>\n",
              "      <td>jnardino</td>\n",
              "      <td>NaN</td>\n",
              "      <td>0</td>\n",
              "      <td>@VirginAmerica and it's a really big bad thing...</td>\n",
              "      <td>NaN</td>\n",
              "      <td>2015-02-24 11:14:45 -0800</td>\n",
              "      <td>NaN</td>\n",
              "      <td>Pacific Time (US &amp; Canada)</td>\n",
              "    </tr>\n",
              "  </tbody>\n",
              "</table>\n",
              "</div>\n",
              "      <button class=\"colab-df-convert\" onclick=\"convertToInteractive('df-2caf3d2c-8eae-44e0-92a6-db8ee6667d95')\"\n",
              "              title=\"Convert this dataframe to an interactive table.\"\n",
              "              style=\"display:none;\">\n",
              "        \n",
              "  <svg xmlns=\"http://www.w3.org/2000/svg\" height=\"24px\"viewBox=\"0 0 24 24\"\n",
              "       width=\"24px\">\n",
              "    <path d=\"M0 0h24v24H0V0z\" fill=\"none\"/>\n",
              "    <path d=\"M18.56 5.44l.94 2.06.94-2.06 2.06-.94-2.06-.94-.94-2.06-.94 2.06-2.06.94zm-11 1L8.5 8.5l.94-2.06 2.06-.94-2.06-.94L8.5 2.5l-.94 2.06-2.06.94zm10 10l.94 2.06.94-2.06 2.06-.94-2.06-.94-.94-2.06-.94 2.06-2.06.94z\"/><path d=\"M17.41 7.96l-1.37-1.37c-.4-.4-.92-.59-1.43-.59-.52 0-1.04.2-1.43.59L10.3 9.45l-7.72 7.72c-.78.78-.78 2.05 0 2.83L4 21.41c.39.39.9.59 1.41.59.51 0 1.02-.2 1.41-.59l7.78-7.78 2.81-2.81c.8-.78.8-2.07 0-2.86zM5.41 20L4 18.59l7.72-7.72 1.47 1.35L5.41 20z\"/>\n",
              "  </svg>\n",
              "      </button>\n",
              "      \n",
              "  <style>\n",
              "    .colab-df-container {\n",
              "      display:flex;\n",
              "      flex-wrap:wrap;\n",
              "      gap: 12px;\n",
              "    }\n",
              "\n",
              "    .colab-df-convert {\n",
              "      background-color: #E8F0FE;\n",
              "      border: none;\n",
              "      border-radius: 50%;\n",
              "      cursor: pointer;\n",
              "      display: none;\n",
              "      fill: #1967D2;\n",
              "      height: 32px;\n",
              "      padding: 0 0 0 0;\n",
              "      width: 32px;\n",
              "    }\n",
              "\n",
              "    .colab-df-convert:hover {\n",
              "      background-color: #E2EBFA;\n",
              "      box-shadow: 0px 1px 2px rgba(60, 64, 67, 0.3), 0px 1px 3px 1px rgba(60, 64, 67, 0.15);\n",
              "      fill: #174EA6;\n",
              "    }\n",
              "\n",
              "    [theme=dark] .colab-df-convert {\n",
              "      background-color: #3B4455;\n",
              "      fill: #D2E3FC;\n",
              "    }\n",
              "\n",
              "    [theme=dark] .colab-df-convert:hover {\n",
              "      background-color: #434B5C;\n",
              "      box-shadow: 0px 1px 3px 1px rgba(0, 0, 0, 0.15);\n",
              "      filter: drop-shadow(0px 1px 2px rgba(0, 0, 0, 0.3));\n",
              "      fill: #FFFFFF;\n",
              "    }\n",
              "  </style>\n",
              "\n",
              "      <script>\n",
              "        const buttonEl =\n",
              "          document.querySelector('#df-2caf3d2c-8eae-44e0-92a6-db8ee6667d95 button.colab-df-convert');\n",
              "        buttonEl.style.display =\n",
              "          google.colab.kernel.accessAllowed ? 'block' : 'none';\n",
              "\n",
              "        async function convertToInteractive(key) {\n",
              "          const element = document.querySelector('#df-2caf3d2c-8eae-44e0-92a6-db8ee6667d95');\n",
              "          const dataTable =\n",
              "            await google.colab.kernel.invokeFunction('convertToInteractive',\n",
              "                                                     [key], {});\n",
              "          if (!dataTable) return;\n",
              "\n",
              "          const docLinkHtml = 'Like what you see? Visit the ' +\n",
              "            '<a target=\"_blank\" href=https://colab.research.google.com/notebooks/data_table.ipynb>data table notebook</a>'\n",
              "            + ' to learn more about interactive tables.';\n",
              "          element.innerHTML = '';\n",
              "          dataTable['output_type'] = 'display_data';\n",
              "          await google.colab.output.renderOutput(dataTable, element);\n",
              "          const docLink = document.createElement('div');\n",
              "          docLink.innerHTML = docLinkHtml;\n",
              "          element.appendChild(docLink);\n",
              "        }\n",
              "      </script>\n",
              "    </div>\n",
              "  </div>\n",
              "  "
            ],
            "text/plain": [
              "             tweet_id  ...               user_timezone\n",
              "0  570306133677760513  ...  Eastern Time (US & Canada)\n",
              "1  570301130888122368  ...  Pacific Time (US & Canada)\n",
              "2  570301083672813571  ...  Central Time (US & Canada)\n",
              "3  570301031407624196  ...  Pacific Time (US & Canada)\n",
              "4  570300817074462722  ...  Pacific Time (US & Canada)\n",
              "\n",
              "[5 rows x 15 columns]"
            ]
          },
          "metadata": {},
          "execution_count": 2
        }
      ]
    },
    {
      "cell_type": "code",
      "source": [
        "type(df)"
      ],
      "metadata": {
        "colab": {
          "base_uri": "https://localhost:8080/"
        },
        "id": "x4DZX6eyZl1e",
        "outputId": "503a3c7d-61ee-41ee-f69f-c8cc85a8936e"
      },
      "execution_count": null,
      "outputs": [
        {
          "output_type": "execute_result",
          "data": {
            "text/plain": [
              "pandas.core.frame.DataFrame"
            ]
          },
          "metadata": {},
          "execution_count": 3
        }
      ]
    },
    {
      "cell_type": "code",
      "source": [
        "df.size, df.describe, "
      ],
      "metadata": {
        "colab": {
          "base_uri": "https://localhost:8080/"
        },
        "id": "VqNrkelYZrGt",
        "outputId": "40d01636-4c85-4766-c653-7f0737fa69db"
      },
      "execution_count": null,
      "outputs": [
        {
          "output_type": "execute_result",
          "data": {
            "text/plain": [
              "(219600,\n",
              " <bound method NDFrame.describe of                  tweet_id  ...               user_timezone\n",
              " 0      570306133677760513  ...  Eastern Time (US & Canada)\n",
              " 1      570301130888122368  ...  Pacific Time (US & Canada)\n",
              " 2      570301083672813571  ...  Central Time (US & Canada)\n",
              " 3      570301031407624196  ...  Pacific Time (US & Canada)\n",
              " 4      570300817074462722  ...  Pacific Time (US & Canada)\n",
              " ...                   ...  ...                         ...\n",
              " 14635  569587686496825344  ...                         NaN\n",
              " 14636  569587371693355008  ...                         NaN\n",
              " 14637  569587242672398336  ...                         NaN\n",
              " 14638  569587188687634433  ...  Eastern Time (US & Canada)\n",
              " 14639  569587140490866689  ...                         NaN\n",
              " \n",
              " [14640 rows x 15 columns]>)"
            ]
          },
          "metadata": {},
          "execution_count": 4
        }
      ]
    },
    {
      "cell_type": "code",
      "source": [
        "df.isna().sum()"
      ],
      "metadata": {
        "colab": {
          "base_uri": "https://localhost:8080/"
        },
        "id": "4xOSwTzSaFcf",
        "outputId": "fc2e7c27-054d-4ecb-faf7-67325f348c76"
      },
      "execution_count": null,
      "outputs": [
        {
          "output_type": "execute_result",
          "data": {
            "text/plain": [
              "tweet_id                            0\n",
              "airline_sentiment                   0\n",
              "airline_sentiment_confidence        0\n",
              "negativereason                   5462\n",
              "negativereason_confidence        4118\n",
              "airline                             0\n",
              "airline_sentiment_gold          14600\n",
              "name                                0\n",
              "negativereason_gold             14608\n",
              "retweet_count                       0\n",
              "text                                0\n",
              "tweet_coord                     13621\n",
              "tweet_created                       0\n",
              "tweet_location                   4733\n",
              "user_timezone                    4820\n",
              "dtype: int64"
            ]
          },
          "metadata": {},
          "execution_count": 5
        }
      ]
    },
    {
      "cell_type": "code",
      "source": [
        "df.negativereason"
      ],
      "metadata": {
        "colab": {
          "base_uri": "https://localhost:8080/"
        },
        "id": "eIagpgjAaQQP",
        "outputId": "d5991768-de15-44e9-ff3e-16a92ec46799"
      },
      "execution_count": null,
      "outputs": [
        {
          "output_type": "execute_result",
          "data": {
            "text/plain": [
              "0                           NaN\n",
              "1                           NaN\n",
              "2                           NaN\n",
              "3                    Bad Flight\n",
              "4                    Can't Tell\n",
              "                  ...          \n",
              "14635                       NaN\n",
              "14636    Customer Service Issue\n",
              "14637                       NaN\n",
              "14638    Customer Service Issue\n",
              "14639                       NaN\n",
              "Name: negativereason, Length: 14640, dtype: object"
            ]
          },
          "metadata": {},
          "execution_count": 6
        }
      ]
    },
    {
      "cell_type": "code",
      "metadata": {
        "colab": {
          "base_uri": "https://localhost:8080/",
          "height": 275
        },
        "id": "tJXNDSmxUUci",
        "outputId": "4bfe1dde-e61b-4847-c0fa-08d5c52a00ce"
      },
      "source": [
        "print(df['airline_sentiment'].value_counts())\n",
        "df[['text','airline_sentiment']].head()\n"
      ],
      "execution_count": null,
      "outputs": [
        {
          "output_type": "stream",
          "name": "stdout",
          "text": [
            "negative    9178\n",
            "neutral     3099\n",
            "positive    2363\n",
            "Name: airline_sentiment, dtype: int64\n"
          ]
        },
        {
          "output_type": "execute_result",
          "data": {
            "text/html": [
              "\n",
              "  <div id=\"df-15c8dabb-8b23-409e-8fa2-b97044c811c8\">\n",
              "    <div class=\"colab-df-container\">\n",
              "      <div>\n",
              "<style scoped>\n",
              "    .dataframe tbody tr th:only-of-type {\n",
              "        vertical-align: middle;\n",
              "    }\n",
              "\n",
              "    .dataframe tbody tr th {\n",
              "        vertical-align: top;\n",
              "    }\n",
              "\n",
              "    .dataframe thead th {\n",
              "        text-align: right;\n",
              "    }\n",
              "</style>\n",
              "<table border=\"1\" class=\"dataframe\">\n",
              "  <thead>\n",
              "    <tr style=\"text-align: right;\">\n",
              "      <th></th>\n",
              "      <th>text</th>\n",
              "      <th>airline_sentiment</th>\n",
              "    </tr>\n",
              "  </thead>\n",
              "  <tbody>\n",
              "    <tr>\n",
              "      <th>0</th>\n",
              "      <td>@VirginAmerica What @dhepburn said.</td>\n",
              "      <td>neutral</td>\n",
              "    </tr>\n",
              "    <tr>\n",
              "      <th>1</th>\n",
              "      <td>@VirginAmerica plus you've added commercials t...</td>\n",
              "      <td>positive</td>\n",
              "    </tr>\n",
              "    <tr>\n",
              "      <th>2</th>\n",
              "      <td>@VirginAmerica I didn't today... Must mean I n...</td>\n",
              "      <td>neutral</td>\n",
              "    </tr>\n",
              "    <tr>\n",
              "      <th>3</th>\n",
              "      <td>@VirginAmerica it's really aggressive to blast...</td>\n",
              "      <td>negative</td>\n",
              "    </tr>\n",
              "    <tr>\n",
              "      <th>4</th>\n",
              "      <td>@VirginAmerica and it's a really big bad thing...</td>\n",
              "      <td>negative</td>\n",
              "    </tr>\n",
              "  </tbody>\n",
              "</table>\n",
              "</div>\n",
              "      <button class=\"colab-df-convert\" onclick=\"convertToInteractive('df-15c8dabb-8b23-409e-8fa2-b97044c811c8')\"\n",
              "              title=\"Convert this dataframe to an interactive table.\"\n",
              "              style=\"display:none;\">\n",
              "        \n",
              "  <svg xmlns=\"http://www.w3.org/2000/svg\" height=\"24px\"viewBox=\"0 0 24 24\"\n",
              "       width=\"24px\">\n",
              "    <path d=\"M0 0h24v24H0V0z\" fill=\"none\"/>\n",
              "    <path d=\"M18.56 5.44l.94 2.06.94-2.06 2.06-.94-2.06-.94-.94-2.06-.94 2.06-2.06.94zm-11 1L8.5 8.5l.94-2.06 2.06-.94-2.06-.94L8.5 2.5l-.94 2.06-2.06.94zm10 10l.94 2.06.94-2.06 2.06-.94-2.06-.94-.94-2.06-.94 2.06-2.06.94z\"/><path d=\"M17.41 7.96l-1.37-1.37c-.4-.4-.92-.59-1.43-.59-.52 0-1.04.2-1.43.59L10.3 9.45l-7.72 7.72c-.78.78-.78 2.05 0 2.83L4 21.41c.39.39.9.59 1.41.59.51 0 1.02-.2 1.41-.59l7.78-7.78 2.81-2.81c.8-.78.8-2.07 0-2.86zM5.41 20L4 18.59l7.72-7.72 1.47 1.35L5.41 20z\"/>\n",
              "  </svg>\n",
              "      </button>\n",
              "      \n",
              "  <style>\n",
              "    .colab-df-container {\n",
              "      display:flex;\n",
              "      flex-wrap:wrap;\n",
              "      gap: 12px;\n",
              "    }\n",
              "\n",
              "    .colab-df-convert {\n",
              "      background-color: #E8F0FE;\n",
              "      border: none;\n",
              "      border-radius: 50%;\n",
              "      cursor: pointer;\n",
              "      display: none;\n",
              "      fill: #1967D2;\n",
              "      height: 32px;\n",
              "      padding: 0 0 0 0;\n",
              "      width: 32px;\n",
              "    }\n",
              "\n",
              "    .colab-df-convert:hover {\n",
              "      background-color: #E2EBFA;\n",
              "      box-shadow: 0px 1px 2px rgba(60, 64, 67, 0.3), 0px 1px 3px 1px rgba(60, 64, 67, 0.15);\n",
              "      fill: #174EA6;\n",
              "    }\n",
              "\n",
              "    [theme=dark] .colab-df-convert {\n",
              "      background-color: #3B4455;\n",
              "      fill: #D2E3FC;\n",
              "    }\n",
              "\n",
              "    [theme=dark] .colab-df-convert:hover {\n",
              "      background-color: #434B5C;\n",
              "      box-shadow: 0px 1px 3px 1px rgba(0, 0, 0, 0.15);\n",
              "      filter: drop-shadow(0px 1px 2px rgba(0, 0, 0, 0.3));\n",
              "      fill: #FFFFFF;\n",
              "    }\n",
              "  </style>\n",
              "\n",
              "      <script>\n",
              "        const buttonEl =\n",
              "          document.querySelector('#df-15c8dabb-8b23-409e-8fa2-b97044c811c8 button.colab-df-convert');\n",
              "        buttonEl.style.display =\n",
              "          google.colab.kernel.accessAllowed ? 'block' : 'none';\n",
              "\n",
              "        async function convertToInteractive(key) {\n",
              "          const element = document.querySelector('#df-15c8dabb-8b23-409e-8fa2-b97044c811c8');\n",
              "          const dataTable =\n",
              "            await google.colab.kernel.invokeFunction('convertToInteractive',\n",
              "                                                     [key], {});\n",
              "          if (!dataTable) return;\n",
              "\n",
              "          const docLinkHtml = 'Like what you see? Visit the ' +\n",
              "            '<a target=\"_blank\" href=https://colab.research.google.com/notebooks/data_table.ipynb>data table notebook</a>'\n",
              "            + ' to learn more about interactive tables.';\n",
              "          element.innerHTML = '';\n",
              "          dataTable['output_type'] = 'display_data';\n",
              "          await google.colab.output.renderOutput(dataTable, element);\n",
              "          const docLink = document.createElement('div');\n",
              "          docLink.innerHTML = docLinkHtml;\n",
              "          element.appendChild(docLink);\n",
              "        }\n",
              "      </script>\n",
              "    </div>\n",
              "  </div>\n",
              "  "
            ],
            "text/plain": [
              "                                                text airline_sentiment\n",
              "0                @VirginAmerica What @dhepburn said.           neutral\n",
              "1  @VirginAmerica plus you've added commercials t...          positive\n",
              "2  @VirginAmerica I didn't today... Must mean I n...           neutral\n",
              "3  @VirginAmerica it's really aggressive to blast...          negative\n",
              "4  @VirginAmerica and it's a really big bad thing...          negative"
            ]
          },
          "metadata": {},
          "execution_count": 7
        }
      ]
    },
    {
      "cell_type": "markdown",
      "metadata": {
        "id": "y11xLysIUi5J"
      },
      "source": [
        "Only text, `airline`, `airline_sentiment` and `negativereason` columns are being used for our model. That's why getting rid of other columns.\n",
        "\n",
        "\n",
        "\n"
      ]
    },
    {
      "cell_type": "code",
      "metadata": {
        "id": "BH0N8phsTaxV",
        "colab": {
          "base_uri": "https://localhost:8080/",
          "height": 423
        },
        "outputId": "41633527-a0de-438b-c630-1c1e3ff5762d"
      },
      "source": [
        "df=df[['text', 'airline','airline_sentiment', 'negativereason']]\n",
        "df"
      ],
      "execution_count": null,
      "outputs": [
        {
          "output_type": "execute_result",
          "data": {
            "text/html": [
              "\n",
              "  <div id=\"df-fcec213e-841f-4953-82f4-218ac9b3e340\">\n",
              "    <div class=\"colab-df-container\">\n",
              "      <div>\n",
              "<style scoped>\n",
              "    .dataframe tbody tr th:only-of-type {\n",
              "        vertical-align: middle;\n",
              "    }\n",
              "\n",
              "    .dataframe tbody tr th {\n",
              "        vertical-align: top;\n",
              "    }\n",
              "\n",
              "    .dataframe thead th {\n",
              "        text-align: right;\n",
              "    }\n",
              "</style>\n",
              "<table border=\"1\" class=\"dataframe\">\n",
              "  <thead>\n",
              "    <tr style=\"text-align: right;\">\n",
              "      <th></th>\n",
              "      <th>text</th>\n",
              "      <th>airline</th>\n",
              "      <th>airline_sentiment</th>\n",
              "      <th>negativereason</th>\n",
              "    </tr>\n",
              "  </thead>\n",
              "  <tbody>\n",
              "    <tr>\n",
              "      <th>0</th>\n",
              "      <td>@VirginAmerica What @dhepburn said.</td>\n",
              "      <td>Virgin America</td>\n",
              "      <td>neutral</td>\n",
              "      <td>NaN</td>\n",
              "    </tr>\n",
              "    <tr>\n",
              "      <th>1</th>\n",
              "      <td>@VirginAmerica plus you've added commercials t...</td>\n",
              "      <td>Virgin America</td>\n",
              "      <td>positive</td>\n",
              "      <td>NaN</td>\n",
              "    </tr>\n",
              "    <tr>\n",
              "      <th>2</th>\n",
              "      <td>@VirginAmerica I didn't today... Must mean I n...</td>\n",
              "      <td>Virgin America</td>\n",
              "      <td>neutral</td>\n",
              "      <td>NaN</td>\n",
              "    </tr>\n",
              "    <tr>\n",
              "      <th>3</th>\n",
              "      <td>@VirginAmerica it's really aggressive to blast...</td>\n",
              "      <td>Virgin America</td>\n",
              "      <td>negative</td>\n",
              "      <td>Bad Flight</td>\n",
              "    </tr>\n",
              "    <tr>\n",
              "      <th>4</th>\n",
              "      <td>@VirginAmerica and it's a really big bad thing...</td>\n",
              "      <td>Virgin America</td>\n",
              "      <td>negative</td>\n",
              "      <td>Can't Tell</td>\n",
              "    </tr>\n",
              "    <tr>\n",
              "      <th>...</th>\n",
              "      <td>...</td>\n",
              "      <td>...</td>\n",
              "      <td>...</td>\n",
              "      <td>...</td>\n",
              "    </tr>\n",
              "    <tr>\n",
              "      <th>14635</th>\n",
              "      <td>@AmericanAir thank you we got on a different f...</td>\n",
              "      <td>American</td>\n",
              "      <td>positive</td>\n",
              "      <td>NaN</td>\n",
              "    </tr>\n",
              "    <tr>\n",
              "      <th>14636</th>\n",
              "      <td>@AmericanAir leaving over 20 minutes Late Flig...</td>\n",
              "      <td>American</td>\n",
              "      <td>negative</td>\n",
              "      <td>Customer Service Issue</td>\n",
              "    </tr>\n",
              "    <tr>\n",
              "      <th>14637</th>\n",
              "      <td>@AmericanAir Please bring American Airlines to...</td>\n",
              "      <td>American</td>\n",
              "      <td>neutral</td>\n",
              "      <td>NaN</td>\n",
              "    </tr>\n",
              "    <tr>\n",
              "      <th>14638</th>\n",
              "      <td>@AmericanAir you have my money, you change my ...</td>\n",
              "      <td>American</td>\n",
              "      <td>negative</td>\n",
              "      <td>Customer Service Issue</td>\n",
              "    </tr>\n",
              "    <tr>\n",
              "      <th>14639</th>\n",
              "      <td>@AmericanAir we have 8 ppl so we need 2 know h...</td>\n",
              "      <td>American</td>\n",
              "      <td>neutral</td>\n",
              "      <td>NaN</td>\n",
              "    </tr>\n",
              "  </tbody>\n",
              "</table>\n",
              "<p>14640 rows × 4 columns</p>\n",
              "</div>\n",
              "      <button class=\"colab-df-convert\" onclick=\"convertToInteractive('df-fcec213e-841f-4953-82f4-218ac9b3e340')\"\n",
              "              title=\"Convert this dataframe to an interactive table.\"\n",
              "              style=\"display:none;\">\n",
              "        \n",
              "  <svg xmlns=\"http://www.w3.org/2000/svg\" height=\"24px\"viewBox=\"0 0 24 24\"\n",
              "       width=\"24px\">\n",
              "    <path d=\"M0 0h24v24H0V0z\" fill=\"none\"/>\n",
              "    <path d=\"M18.56 5.44l.94 2.06.94-2.06 2.06-.94-2.06-.94-.94-2.06-.94 2.06-2.06.94zm-11 1L8.5 8.5l.94-2.06 2.06-.94-2.06-.94L8.5 2.5l-.94 2.06-2.06.94zm10 10l.94 2.06.94-2.06 2.06-.94-2.06-.94-.94-2.06-.94 2.06-2.06.94z\"/><path d=\"M17.41 7.96l-1.37-1.37c-.4-.4-.92-.59-1.43-.59-.52 0-1.04.2-1.43.59L10.3 9.45l-7.72 7.72c-.78.78-.78 2.05 0 2.83L4 21.41c.39.39.9.59 1.41.59.51 0 1.02-.2 1.41-.59l7.78-7.78 2.81-2.81c.8-.78.8-2.07 0-2.86zM5.41 20L4 18.59l7.72-7.72 1.47 1.35L5.41 20z\"/>\n",
              "  </svg>\n",
              "      </button>\n",
              "      \n",
              "  <style>\n",
              "    .colab-df-container {\n",
              "      display:flex;\n",
              "      flex-wrap:wrap;\n",
              "      gap: 12px;\n",
              "    }\n",
              "\n",
              "    .colab-df-convert {\n",
              "      background-color: #E8F0FE;\n",
              "      border: none;\n",
              "      border-radius: 50%;\n",
              "      cursor: pointer;\n",
              "      display: none;\n",
              "      fill: #1967D2;\n",
              "      height: 32px;\n",
              "      padding: 0 0 0 0;\n",
              "      width: 32px;\n",
              "    }\n",
              "\n",
              "    .colab-df-convert:hover {\n",
              "      background-color: #E2EBFA;\n",
              "      box-shadow: 0px 1px 2px rgba(60, 64, 67, 0.3), 0px 1px 3px 1px rgba(60, 64, 67, 0.15);\n",
              "      fill: #174EA6;\n",
              "    }\n",
              "\n",
              "    [theme=dark] .colab-df-convert {\n",
              "      background-color: #3B4455;\n",
              "      fill: #D2E3FC;\n",
              "    }\n",
              "\n",
              "    [theme=dark] .colab-df-convert:hover {\n",
              "      background-color: #434B5C;\n",
              "      box-shadow: 0px 1px 3px 1px rgba(0, 0, 0, 0.15);\n",
              "      filter: drop-shadow(0px 1px 2px rgba(0, 0, 0, 0.3));\n",
              "      fill: #FFFFFF;\n",
              "    }\n",
              "  </style>\n",
              "\n",
              "      <script>\n",
              "        const buttonEl =\n",
              "          document.querySelector('#df-fcec213e-841f-4953-82f4-218ac9b3e340 button.colab-df-convert');\n",
              "        buttonEl.style.display =\n",
              "          google.colab.kernel.accessAllowed ? 'block' : 'none';\n",
              "\n",
              "        async function convertToInteractive(key) {\n",
              "          const element = document.querySelector('#df-fcec213e-841f-4953-82f4-218ac9b3e340');\n",
              "          const dataTable =\n",
              "            await google.colab.kernel.invokeFunction('convertToInteractive',\n",
              "                                                     [key], {});\n",
              "          if (!dataTable) return;\n",
              "\n",
              "          const docLinkHtml = 'Like what you see? Visit the ' +\n",
              "            '<a target=\"_blank\" href=https://colab.research.google.com/notebooks/data_table.ipynb>data table notebook</a>'\n",
              "            + ' to learn more about interactive tables.';\n",
              "          element.innerHTML = '';\n",
              "          dataTable['output_type'] = 'display_data';\n",
              "          await google.colab.output.renderOutput(dataTable, element);\n",
              "          const docLink = document.createElement('div');\n",
              "          docLink.innerHTML = docLinkHtml;\n",
              "          element.appendChild(docLink);\n",
              "        }\n",
              "      </script>\n",
              "    </div>\n",
              "  </div>\n",
              "  "
            ],
            "text/plain": [
              "                                                    text  ...          negativereason\n",
              "0                    @VirginAmerica What @dhepburn said.  ...                     NaN\n",
              "1      @VirginAmerica plus you've added commercials t...  ...                     NaN\n",
              "2      @VirginAmerica I didn't today... Must mean I n...  ...                     NaN\n",
              "3      @VirginAmerica it's really aggressive to blast...  ...              Bad Flight\n",
              "4      @VirginAmerica and it's a really big bad thing...  ...              Can't Tell\n",
              "...                                                  ...  ...                     ...\n",
              "14635  @AmericanAir thank you we got on a different f...  ...                     NaN\n",
              "14636  @AmericanAir leaving over 20 minutes Late Flig...  ...  Customer Service Issue\n",
              "14637  @AmericanAir Please bring American Airlines to...  ...                     NaN\n",
              "14638  @AmericanAir you have my money, you change my ...  ...  Customer Service Issue\n",
              "14639  @AmericanAir we have 8 ppl so we need 2 know h...  ...                     NaN\n",
              "\n",
              "[14640 rows x 4 columns]"
            ]
          },
          "metadata": {},
          "execution_count": 8
        }
      ]
    },
    {
      "cell_type": "markdown",
      "metadata": {
        "id": "rOFnAn4UU_pD"
      },
      "source": [
        "Adding indicator variables for `airline_sentiment` and `negativereason` with the data set\n",
        "\n",
        "Reference: https://pandas.pydata.org/docs/reference/api/pandas.get_dummies.html"
      ]
    },
    {
      "cell_type": "code",
      "metadata": {
        "id": "xfKDQi8PrqrY",
        "colab": {
          "base_uri": "https://localhost:8080/",
          "height": 231
        },
        "outputId": "d7a47f89-b675-4a5f-b563-d384ec40b7a3"
      },
      "source": [
        "airline = pd.get_dummies(df['airline'])\n",
        "user_negativereason = pd.get_dummies(df['negativereason'])\n",
        "\n",
        "df = pd.concat([df, airline, user_negativereason], axis = 1)\n",
        "df.head(1)\n"
      ],
      "execution_count": null,
      "outputs": [
        {
          "output_type": "execute_result",
          "data": {
            "text/html": [
              "\n",
              "  <div id=\"df-89c4a65d-b313-49ce-8f95-37335bdad7a0\">\n",
              "    <div class=\"colab-df-container\">\n",
              "      <div>\n",
              "<style scoped>\n",
              "    .dataframe tbody tr th:only-of-type {\n",
              "        vertical-align: middle;\n",
              "    }\n",
              "\n",
              "    .dataframe tbody tr th {\n",
              "        vertical-align: top;\n",
              "    }\n",
              "\n",
              "    .dataframe thead th {\n",
              "        text-align: right;\n",
              "    }\n",
              "</style>\n",
              "<table border=\"1\" class=\"dataframe\">\n",
              "  <thead>\n",
              "    <tr style=\"text-align: right;\">\n",
              "      <th></th>\n",
              "      <th>text</th>\n",
              "      <th>airline</th>\n",
              "      <th>airline_sentiment</th>\n",
              "      <th>negativereason</th>\n",
              "      <th>American</th>\n",
              "      <th>Delta</th>\n",
              "      <th>Southwest</th>\n",
              "      <th>US Airways</th>\n",
              "      <th>United</th>\n",
              "      <th>Virgin America</th>\n",
              "      <th>Bad Flight</th>\n",
              "      <th>Can't Tell</th>\n",
              "      <th>Cancelled Flight</th>\n",
              "      <th>Customer Service Issue</th>\n",
              "      <th>Damaged Luggage</th>\n",
              "      <th>Flight Attendant Complaints</th>\n",
              "      <th>Flight Booking Problems</th>\n",
              "      <th>Late Flight</th>\n",
              "      <th>Lost Luggage</th>\n",
              "      <th>longlines</th>\n",
              "    </tr>\n",
              "  </thead>\n",
              "  <tbody>\n",
              "    <tr>\n",
              "      <th>0</th>\n",
              "      <td>@VirginAmerica What @dhepburn said.</td>\n",
              "      <td>Virgin America</td>\n",
              "      <td>neutral</td>\n",
              "      <td>NaN</td>\n",
              "      <td>0</td>\n",
              "      <td>0</td>\n",
              "      <td>0</td>\n",
              "      <td>0</td>\n",
              "      <td>0</td>\n",
              "      <td>1</td>\n",
              "      <td>0</td>\n",
              "      <td>0</td>\n",
              "      <td>0</td>\n",
              "      <td>0</td>\n",
              "      <td>0</td>\n",
              "      <td>0</td>\n",
              "      <td>0</td>\n",
              "      <td>0</td>\n",
              "      <td>0</td>\n",
              "      <td>0</td>\n",
              "    </tr>\n",
              "  </tbody>\n",
              "</table>\n",
              "</div>\n",
              "      <button class=\"colab-df-convert\" onclick=\"convertToInteractive('df-89c4a65d-b313-49ce-8f95-37335bdad7a0')\"\n",
              "              title=\"Convert this dataframe to an interactive table.\"\n",
              "              style=\"display:none;\">\n",
              "        \n",
              "  <svg xmlns=\"http://www.w3.org/2000/svg\" height=\"24px\"viewBox=\"0 0 24 24\"\n",
              "       width=\"24px\">\n",
              "    <path d=\"M0 0h24v24H0V0z\" fill=\"none\"/>\n",
              "    <path d=\"M18.56 5.44l.94 2.06.94-2.06 2.06-.94-2.06-.94-.94-2.06-.94 2.06-2.06.94zm-11 1L8.5 8.5l.94-2.06 2.06-.94-2.06-.94L8.5 2.5l-.94 2.06-2.06.94zm10 10l.94 2.06.94-2.06 2.06-.94-2.06-.94-.94-2.06-.94 2.06-2.06.94z\"/><path d=\"M17.41 7.96l-1.37-1.37c-.4-.4-.92-.59-1.43-.59-.52 0-1.04.2-1.43.59L10.3 9.45l-7.72 7.72c-.78.78-.78 2.05 0 2.83L4 21.41c.39.39.9.59 1.41.59.51 0 1.02-.2 1.41-.59l7.78-7.78 2.81-2.81c.8-.78.8-2.07 0-2.86zM5.41 20L4 18.59l7.72-7.72 1.47 1.35L5.41 20z\"/>\n",
              "  </svg>\n",
              "      </button>\n",
              "      \n",
              "  <style>\n",
              "    .colab-df-container {\n",
              "      display:flex;\n",
              "      flex-wrap:wrap;\n",
              "      gap: 12px;\n",
              "    }\n",
              "\n",
              "    .colab-df-convert {\n",
              "      background-color: #E8F0FE;\n",
              "      border: none;\n",
              "      border-radius: 50%;\n",
              "      cursor: pointer;\n",
              "      display: none;\n",
              "      fill: #1967D2;\n",
              "      height: 32px;\n",
              "      padding: 0 0 0 0;\n",
              "      width: 32px;\n",
              "    }\n",
              "\n",
              "    .colab-df-convert:hover {\n",
              "      background-color: #E2EBFA;\n",
              "      box-shadow: 0px 1px 2px rgba(60, 64, 67, 0.3), 0px 1px 3px 1px rgba(60, 64, 67, 0.15);\n",
              "      fill: #174EA6;\n",
              "    }\n",
              "\n",
              "    [theme=dark] .colab-df-convert {\n",
              "      background-color: #3B4455;\n",
              "      fill: #D2E3FC;\n",
              "    }\n",
              "\n",
              "    [theme=dark] .colab-df-convert:hover {\n",
              "      background-color: #434B5C;\n",
              "      box-shadow: 0px 1px 3px 1px rgba(0, 0, 0, 0.15);\n",
              "      filter: drop-shadow(0px 1px 2px rgba(0, 0, 0, 0.3));\n",
              "      fill: #FFFFFF;\n",
              "    }\n",
              "  </style>\n",
              "\n",
              "      <script>\n",
              "        const buttonEl =\n",
              "          document.querySelector('#df-89c4a65d-b313-49ce-8f95-37335bdad7a0 button.colab-df-convert');\n",
              "        buttonEl.style.display =\n",
              "          google.colab.kernel.accessAllowed ? 'block' : 'none';\n",
              "\n",
              "        async function convertToInteractive(key) {\n",
              "          const element = document.querySelector('#df-89c4a65d-b313-49ce-8f95-37335bdad7a0');\n",
              "          const dataTable =\n",
              "            await google.colab.kernel.invokeFunction('convertToInteractive',\n",
              "                                                     [key], {});\n",
              "          if (!dataTable) return;\n",
              "\n",
              "          const docLinkHtml = 'Like what you see? Visit the ' +\n",
              "            '<a target=\"_blank\" href=https://colab.research.google.com/notebooks/data_table.ipynb>data table notebook</a>'\n",
              "            + ' to learn more about interactive tables.';\n",
              "          element.innerHTML = '';\n",
              "          dataTable['output_type'] = 'display_data';\n",
              "          await google.colab.output.renderOutput(dataTable, element);\n",
              "          const docLink = document.createElement('div');\n",
              "          docLink.innerHTML = docLinkHtml;\n",
              "          element.appendChild(docLink);\n",
              "        }\n",
              "      </script>\n",
              "    </div>\n",
              "  </div>\n",
              "  "
            ],
            "text/plain": [
              "                                  text         airline  ... Lost Luggage longlines\n",
              "0  @VirginAmerica What @dhepburn said.  Virgin America  ...            0         0\n",
              "\n",
              "[1 rows x 20 columns]"
            ]
          },
          "metadata": {},
          "execution_count": 9
        }
      ]
    },
    {
      "cell_type": "code",
      "source": [
        "df.plot(figsize=(8,7))"
      ],
      "metadata": {
        "colab": {
          "base_uri": "https://localhost:8080/",
          "height": 446
        },
        "id": "caTxc22jB_jM",
        "outputId": "f04ef0c8-35d5-43ca-ed56-49e1c33683dc"
      },
      "execution_count": null,
      "outputs": [
        {
          "output_type": "execute_result",
          "data": {
            "text/plain": [
              "<matplotlib.axes._subplots.AxesSubplot at 0x7f3dd49b5710>"
            ]
          },
          "metadata": {},
          "execution_count": 10
        },
        {
          "output_type": "display_data",
          "data": {
            "image/png": "[encoded data removed]",
            "text/plain": [
              "<Figure size 576x504 with 1 Axes>"
            ]
          },
          "metadata": {
            "needs_background": "light"
          }
        }
      ]
    },
    {
      "cell_type": "code",
      "source": [
        "df.airline.sum();"
      ],
      "metadata": {
        "id": "tZDI0Oc_7BIA"
      },
      "execution_count": null,
      "outputs": []
    },
    {
      "cell_type": "code",
      "metadata": {
        "id": "i4En1Gjny3rq",
        "colab": {
          "base_uri": "https://localhost:8080/"
        },
        "outputId": "8cea7a4b-d1c9-4fb4-fca1-15025794692b"
      },
      "source": [
        "negativereason = list(user_negativereason.columns)\n",
        "airline = list(airline.columns)\n",
        "airline_negativeReason = airline+negativereason\n",
        "print(airline_negativeReason)"
      ],
      "execution_count": null,
      "outputs": [
        {
          "output_type": "stream",
          "name": "stdout",
          "text": [
            "['American', 'Delta', 'Southwest', 'US Airways', 'United', 'Virgin America', 'Bad Flight', \"Can't Tell\", 'Cancelled Flight', 'Customer Service Issue', 'Damaged Luggage', 'Flight Attendant Complaints', 'Flight Booking Problems', 'Late Flight', 'Lost Luggage', 'longlines']\n"
          ]
        }
      ]
    },
    {
      "cell_type": "code",
      "metadata": {
        "id": "rj9jQj5ozNKM"
      },
      "source": [
        "import numpy as np\n",
        "import re\n",
        "\n",
        "def remove_pattern(input_txt, pattern):\n",
        "  r = re.findall(pattern, input_txt)\n",
        "  for i in r:\n",
        "    input_txt = re.sub(i, '', input_txt) \n",
        "  return input_txt\n"
      ],
      "execution_count": null,
      "outputs": []
    },
    {
      "cell_type": "code",
      "metadata": {
        "id": "NkD3i0UNVdUq"
      },
      "source": [
        "def cleanup_text(df):\n",
        "  # small letter\n",
        "  df['text_clean'] = df['text'].str.lower()\n",
        "\n",
        "  #  Removing Twitter Handles (@user) \n",
        "  df['text_clean'] = np.vectorize(remove_pattern)(df['text_clean'], r\"@[\\w]*\")\n",
        "\n",
        "  # Removing URL\n",
        "  df['text_clean'] = np.vectorize(remove_pattern)(df['text_clean'], r'^http?:\\/\\/.*[\\r\\n]*')\n",
        "  df['text_clean'] = np.vectorize(remove_pattern)(df['text_clean'], r'^https?:\\/\\/.*[\\r\\n]*') \n",
        "  # Removing Punctuations, Numbers, and Special Characters\n",
        "  df['text_clean'] = df['text_clean'].str.replace(\"[^a-zA-Z#]\", \" \")\n",
        "  #df"
      ],
      "execution_count": null,
      "outputs": []
    },
    {
      "cell_type": "markdown",
      "metadata": {
        "id": "BSsC5TKAWZXL"
      },
      "source": [
        "# Text Cleanup start"
      ]
    },
    {
      "cell_type": "code",
      "metadata": {
        "id": "v3PZ-p9viCa5"
      },
      "source": [
        "# small letter\n",
        "df['text_clean'] = df['text'].str.lower()\n",
        "\n",
        "#  Removing Twitter Handles (@user) \n",
        "df['text_clean'] = np.vectorize(remove_pattern)(df['text_clean'], r\"@[\\w]*\")\n"
      ],
      "execution_count": null,
      "outputs": []
    },
    {
      "cell_type": "code",
      "metadata": {
        "id": "PtJdzlttiKcT"
      },
      "source": [
        "# Removing URL\n",
        "df['text_clean'] = np.vectorize(remove_pattern)(df['text_clean'], r'^http?:\\/\\/.*[\\r\\n]*')\n",
        "df['text_clean'] = np.vectorize(remove_pattern)(df['text_clean'], r'^https?:\\/\\/.*[\\r\\n]*') "
      ],
      "execution_count": null,
      "outputs": []
    },
    {
      "cell_type": "code",
      "metadata": {
        "id": "SsVnE20A3SsX",
        "colab": {
          "base_uri": "https://localhost:8080/",
          "height": 332
        },
        "outputId": "baa8fdfb-dad7-4d40-e886-0aca7df6180b"
      },
      "source": [
        "# Removing Punctuations, Numbers, and Special Characters\n",
        "df['text_clean'] = df['text_clean'].str.replace(\"[^a-zA-Z#]\", \" \")\n",
        "df.tail(2)"
      ],
      "execution_count": null,
      "outputs": [
        {
          "output_type": "execute_result",
          "data": {
            "text/html": [
              "\n",
              "  <div id=\"df-2e1b6a77-65cb-4853-b7d9-ea258f7e1215\">\n",
              "    <div class=\"colab-df-container\">\n",
              "      <div>\n",
              "<style scoped>\n",
              "    .dataframe tbody tr th:only-of-type {\n",
              "        vertical-align: middle;\n",
              "    }\n",
              "\n",
              "    .dataframe tbody tr th {\n",
              "        vertical-align: top;\n",
              "    }\n",
              "\n",
              "    .dataframe thead th {\n",
              "        text-align: right;\n",
              "    }\n",
              "</style>\n",
              "<table border=\"1\" class=\"dataframe\">\n",
              "  <thead>\n",
              "    <tr style=\"text-align: right;\">\n",
              "      <th></th>\n",
              "      <th>text</th>\n",
              "      <th>airline</th>\n",
              "      <th>airline_sentiment</th>\n",
              "      <th>negativereason</th>\n",
              "      <th>American</th>\n",
              "      <th>Delta</th>\n",
              "      <th>Southwest</th>\n",
              "      <th>US Airways</th>\n",
              "      <th>United</th>\n",
              "      <th>Virgin America</th>\n",
              "      <th>Bad Flight</th>\n",
              "      <th>Can't Tell</th>\n",
              "      <th>Cancelled Flight</th>\n",
              "      <th>Customer Service Issue</th>\n",
              "      <th>Damaged Luggage</th>\n",
              "      <th>Flight Attendant Complaints</th>\n",
              "      <th>Flight Booking Problems</th>\n",
              "      <th>Late Flight</th>\n",
              "      <th>Lost Luggage</th>\n",
              "      <th>longlines</th>\n",
              "      <th>text_clean</th>\n",
              "    </tr>\n",
              "  </thead>\n",
              "  <tbody>\n",
              "    <tr>\n",
              "      <th>14638</th>\n",
              "      <td>@AmericanAir you have my money, you change my ...</td>\n",
              "      <td>American</td>\n",
              "      <td>negative</td>\n",
              "      <td>Customer Service Issue</td>\n",
              "      <td>1</td>\n",
              "      <td>0</td>\n",
              "      <td>0</td>\n",
              "      <td>0</td>\n",
              "      <td>0</td>\n",
              "      <td>0</td>\n",
              "      <td>0</td>\n",
              "      <td>0</td>\n",
              "      <td>0</td>\n",
              "      <td>1</td>\n",
              "      <td>0</td>\n",
              "      <td>0</td>\n",
              "      <td>0</td>\n",
              "      <td>0</td>\n",
              "      <td>0</td>\n",
              "      <td>0</td>\n",
              "      <td>you have my money  you change my flight  and ...</td>\n",
              "    </tr>\n",
              "    <tr>\n",
              "      <th>14639</th>\n",
              "      <td>@AmericanAir we have 8 ppl so we need 2 know h...</td>\n",
              "      <td>American</td>\n",
              "      <td>neutral</td>\n",
              "      <td>NaN</td>\n",
              "      <td>1</td>\n",
              "      <td>0</td>\n",
              "      <td>0</td>\n",
              "      <td>0</td>\n",
              "      <td>0</td>\n",
              "      <td>0</td>\n",
              "      <td>0</td>\n",
              "      <td>0</td>\n",
              "      <td>0</td>\n",
              "      <td>0</td>\n",
              "      <td>0</td>\n",
              "      <td>0</td>\n",
              "      <td>0</td>\n",
              "      <td>0</td>\n",
              "      <td>0</td>\n",
              "      <td>0</td>\n",
              "      <td>we have   ppl so we need   know how many seat...</td>\n",
              "    </tr>\n",
              "  </tbody>\n",
              "</table>\n",
              "</div>\n",
              "      <button class=\"colab-df-convert\" onclick=\"convertToInteractive('df-2e1b6a77-65cb-4853-b7d9-ea258f7e1215')\"\n",
              "              title=\"Convert this dataframe to an interactive table.\"\n",
              "              style=\"display:none;\">\n",
              "        \n",
              "  <svg xmlns=\"http://www.w3.org/2000/svg\" height=\"24px\"viewBox=\"0 0 24 24\"\n",
              "       width=\"24px\">\n",
              "    <path d=\"M0 0h24v24H0V0z\" fill=\"none\"/>\n",
              "    <path d=\"M18.56 5.44l.94 2.06.94-2.06 2.06-.94-2.06-.94-.94-2.06-.94 2.06-2.06.94zm-11 1L8.5 8.5l.94-2.06 2.06-.94-2.06-.94L8.5 2.5l-.94 2.06-2.06.94zm10 10l.94 2.06.94-2.06 2.06-.94-2.06-.94-.94-2.06-.94 2.06-2.06.94z\"/><path d=\"M17.41 7.96l-1.37-1.37c-.4-.4-.92-.59-1.43-.59-.52 0-1.04.2-1.43.59L10.3 9.45l-7.72 7.72c-.78.78-.78 2.05 0 2.83L4 21.41c.39.39.9.59 1.41.59.51 0 1.02-.2 1.41-.59l7.78-7.78 2.81-2.81c.8-.78.8-2.07 0-2.86zM5.41 20L4 18.59l7.72-7.72 1.47 1.35L5.41 20z\"/>\n",
              "  </svg>\n",
              "      </button>\n",
              "      \n",
              "  <style>\n",
              "    .colab-df-container {\n",
              "      display:flex;\n",
              "      flex-wrap:wrap;\n",
              "      gap: 12px;\n",
              "    }\n",
              "\n",
              "    .colab-df-convert {\n",
              "      background-color: #E8F0FE;\n",
              "      border: none;\n",
              "      border-radius: 50%;\n",
              "      cursor: pointer;\n",
              "      display: none;\n",
              "      fill: #1967D2;\n",
              "      height: 32px;\n",
              "      padding: 0 0 0 0;\n",
              "      width: 32px;\n",
              "    }\n",
              "\n",
              "    .colab-df-convert:hover {\n",
              "      background-color: #E2EBFA;\n",
              "      box-shadow: 0px 1px 2px rgba(60, 64, 67, 0.3), 0px 1px 3px 1px rgba(60, 64, 67, 0.15);\n",
              "      fill: #174EA6;\n",
              "    }\n",
              "\n",
              "    [theme=dark] .colab-df-convert {\n",
              "      background-color: #3B4455;\n",
              "      fill: #D2E3FC;\n",
              "    }\n",
              "\n",
              "    [theme=dark] .colab-df-convert:hover {\n",
              "      background-color: #434B5C;\n",
              "      box-shadow: 0px 1px 3px 1px rgba(0, 0, 0, 0.15);\n",
              "      filter: drop-shadow(0px 1px 2px rgba(0, 0, 0, 0.3));\n",
              "      fill: #FFFFFF;\n",
              "    }\n",
              "  </style>\n",
              "\n",
              "      <script>\n",
              "        const buttonEl =\n",
              "          document.querySelector('#df-2e1b6a77-65cb-4853-b7d9-ea258f7e1215 button.colab-df-convert');\n",
              "        buttonEl.style.display =\n",
              "          google.colab.kernel.accessAllowed ? 'block' : 'none';\n",
              "\n",
              "        async function convertToInteractive(key) {\n",
              "          const element = document.querySelector('#df-2e1b6a77-65cb-4853-b7d9-ea258f7e1215');\n",
              "          const dataTable =\n",
              "            await google.colab.kernel.invokeFunction('convertToInteractive',\n",
              "                                                     [key], {});\n",
              "          if (!dataTable) return;\n",
              "\n",
              "          const docLinkHtml = 'Like what you see? Visit the ' +\n",
              "            '<a target=\"_blank\" href=https://colab.research.google.com/notebooks/data_table.ipynb>data table notebook</a>'\n",
              "            + ' to learn more about interactive tables.';\n",
              "          element.innerHTML = '';\n",
              "          dataTable['output_type'] = 'display_data';\n",
              "          await google.colab.output.renderOutput(dataTable, element);\n",
              "          const docLink = document.createElement('div');\n",
              "          docLink.innerHTML = docLinkHtml;\n",
              "          element.appendChild(docLink);\n",
              "        }\n",
              "      </script>\n",
              "    </div>\n",
              "  </div>\n",
              "  "
            ],
            "text/plain": [
              "                                                    text  ...                                         text_clean\n",
              "14638  @AmericanAir you have my money, you change my ...  ...   you have my money  you change my flight  and ...\n",
              "14639  @AmericanAir we have 8 ppl so we need 2 know h...  ...   we have   ppl so we need   know how many seat...\n",
              "\n",
              "[2 rows x 21 columns]"
            ]
          },
          "metadata": {},
          "execution_count": 17
        }
      ]
    },
    {
      "cell_type": "markdown",
      "metadata": {
        "id": "AieIDqGwWcQJ"
      },
      "source": [
        "# Text Cleanup End"
      ]
    },
    {
      "cell_type": "code",
      "metadata": {
        "id": "4SRcfnbWXucq"
      },
      "source": [
        "from keras.preprocessing.text import Tokenizer\n",
        "from keras.preprocessing.sequence import pad_sequences\n",
        "from keras import regularizers\n",
        "\n",
        "\n",
        "def other_text_processing():\n",
        "# tokenize\n",
        "\n",
        "  from nltk.tokenize import TweetTokenizer\n",
        "  tt = TweetTokenizer()\n",
        "  df['text_tokenize'] = df['text_clean'].apply(tt.tokenize) \n",
        "\n",
        "  # stopwords\n",
        "  import nltk\n",
        "  nltk.download('stopwords')\n",
        "  from nltk.corpus import stopwords\n",
        "\n",
        "  stop_words = stopwords.words('english')\n",
        "\n",
        "  stop_words = [i for i in stop_words if \"'t\" not in i and \"not\" not in i]\n",
        "  df['text_stopwords'] = df['text_tokenize'].apply(lambda x: [item for item in x if item not in stop_words])\n",
        "  #print(df['text_stopwords'])\n",
        "  #df.head()\n",
        "\n",
        "\n",
        "  def to_char(test_list):\n",
        "    return  [ele for ele in test_list if ele is not ' ']\n",
        "\n",
        "  df['text_char'] = df['text_clean'].apply(to_char)\n",
        "  #df['text_char']\n",
        "\n",
        "  df['word_count'] = df['text_tokenize'].str.len()\n",
        "  df['char_count'] = df['text_char'].str.len()\n",
        "  df.head()\n",
        "\n",
        "\n",
        "  max = 0\n",
        "  total_unique = 0\n",
        "  all_text = []\n",
        "\n",
        "  for twitte in df['text_stopwords']:\n",
        "    if len(twitte)>max:\n",
        "      max = len(twitte)\n",
        "    all_text.extend(twitte)\n",
        "\n",
        "  all_text = set(all_text)\n",
        "  vocab_size = len(all_text)\n",
        "  print(f'max word count of clean text: {max}\\ntotal unique words after cleaning: {vocab_size}')\n",
        "\n",
        "\n",
        "\n",
        "\n",
        "  max_words = vocab_size\n",
        "  max_len = max\n",
        "\n",
        "  tokenizer = Tokenizer(num_words=max_words)\n",
        "  tokenizer.fit_on_texts(df['text_stopwords'].values)\n",
        "\n",
        "  #len(tokenizer.index_word )\n",
        "  #tokenizer\n",
        "\n",
        "\n",
        "  max_char = 0\n",
        "  all_char = []\n",
        "  for i in df['text_clean']:\n",
        "    if len(i)>max_char:\n",
        "      max_char = len(i)\n",
        "    all_char.extend(set(i))\n",
        "\n",
        "  char_vocab_size = len(set(all_char))\n",
        "\n",
        "  print(f'max vocab for char apporach {char_vocab_size}\\nmax char {max_char}')\n",
        "\n",
        "  from keras.preprocessing.text import Tokenizer\n",
        "\n",
        "  max_words2 = char_vocab_size\n",
        "  max_len2 = max_char\n",
        "\n",
        "  tokenizer2 = Tokenizer(num_words=max_words2)\n",
        "  tokenizer2.fit_on_texts(df['text_char'].values)\n"
      ],
      "execution_count": null,
      "outputs": []
    },
    {
      "cell_type": "code",
      "metadata": {
        "id": "X9hlRUKr80t5"
      },
      "source": [
        "# tokenize\n",
        "\n",
        "from nltk.tokenize import TweetTokenizer\n",
        "tt = TweetTokenizer()\n",
        "df['text_tokenize'] = df['text_clean'].apply(tt.tokenize)\n"
      ],
      "execution_count": null,
      "outputs": []
    },
    {
      "cell_type": "code",
      "metadata": {
        "id": "4MSvFLI04DS9",
        "colab": {
          "base_uri": "https://localhost:8080/"
        },
        "outputId": "bae1f945-7849-4a76-b5e3-5a5d52d1f762"
      },
      "source": [
        "import nltk\n",
        "nltk.download('stopwords')\n",
        "from nltk.corpus import stopwords\n",
        "\n",
        "stop_words = stopwords.words('english')\n",
        "\n",
        "stop_words = [i for i in stop_words if \"'t\" not in i and \"not\" not in i]\n",
        "df['text_stopwords'] = df['text_tokenize'].apply(lambda x: [item for item in x if item not in stop_words])"
      ],
      "execution_count": null,
      "outputs": [
        {
          "output_type": "stream",
          "name": "stdout",
          "text": [
            "[nltk_data] Downloading package stopwords to /root/nltk_data...\n",
            "[nltk_data]   Unzipping corpora/stopwords.zip.\n"
          ]
        }
      ]
    },
    {
      "cell_type": "code",
      "metadata": {
        "id": "-ttbvYm7hCsA"
      },
      "source": [
        "def to_char(test_list):\n",
        "  return  [ele for ele in test_list if ele is not ' ']\n",
        "\n",
        "df['text_char'] = df['text_clean'].apply(to_char)\n",
        "#df['text_char']"
      ],
      "execution_count": null,
      "outputs": []
    },
    {
      "cell_type": "code",
      "metadata": {
        "id": "fVO6zPYZ8JzB",
        "colab": {
          "base_uri": "https://localhost:8080/",
          "height": 600
        },
        "outputId": "7e3e84e7-3511-4978-d614-9ccf7f279018"
      },
      "source": [
        "df['word_count'] = df['text_tokenize'].str.len()\n",
        "df['char_count'] = df['text_char'].str.len()\n",
        "df.head()"
      ],
      "execution_count": null,
      "outputs": [
        {
          "output_type": "execute_result",
          "data": {
            "text/html": [
              "\n",
              "  <div id=\"df-6677925f-eb19-4b7e-8604-e89bb4a2e444\">\n",
              "    <div class=\"colab-df-container\">\n",
              "      <div>\n",
              "<style scoped>\n",
              "    .dataframe tbody tr th:only-of-type {\n",
              "        vertical-align: middle;\n",
              "    }\n",
              "\n",
              "    .dataframe tbody tr th {\n",
              "        vertical-align: top;\n",
              "    }\n",
              "\n",
              "    .dataframe thead th {\n",
              "        text-align: right;\n",
              "    }\n",
              "</style>\n",
              "<table border=\"1\" class=\"dataframe\">\n",
              "  <thead>\n",
              "    <tr style=\"text-align: right;\">\n",
              "      <th></th>\n",
              "      <th>text</th>\n",
              "      <th>airline</th>\n",
              "      <th>airline_sentiment</th>\n",
              "      <th>negativereason</th>\n",
              "      <th>American</th>\n",
              "      <th>Delta</th>\n",
              "      <th>Southwest</th>\n",
              "      <th>US Airways</th>\n",
              "      <th>United</th>\n",
              "      <th>Virgin America</th>\n",
              "      <th>Bad Flight</th>\n",
              "      <th>Can't Tell</th>\n",
              "      <th>Cancelled Flight</th>\n",
              "      <th>Customer Service Issue</th>\n",
              "      <th>Damaged Luggage</th>\n",
              "      <th>Flight Attendant Complaints</th>\n",
              "      <th>Flight Booking Problems</th>\n",
              "      <th>Late Flight</th>\n",
              "      <th>Lost Luggage</th>\n",
              "      <th>longlines</th>\n",
              "      <th>text_clean</th>\n",
              "      <th>text_tokenize</th>\n",
              "      <th>text_stopwords</th>\n",
              "      <th>text_char</th>\n",
              "      <th>word_count</th>\n",
              "      <th>char_count</th>\n",
              "    </tr>\n",
              "  </thead>\n",
              "  <tbody>\n",
              "    <tr>\n",
              "      <th>0</th>\n",
              "      <td>@VirginAmerica What @dhepburn said.</td>\n",
              "      <td>Virgin America</td>\n",
              "      <td>neutral</td>\n",
              "      <td>NaN</td>\n",
              "      <td>0</td>\n",
              "      <td>0</td>\n",
              "      <td>0</td>\n",
              "      <td>0</td>\n",
              "      <td>0</td>\n",
              "      <td>1</td>\n",
              "      <td>0</td>\n",
              "      <td>0</td>\n",
              "      <td>0</td>\n",
              "      <td>0</td>\n",
              "      <td>0</td>\n",
              "      <td>0</td>\n",
              "      <td>0</td>\n",
              "      <td>0</td>\n",
              "      <td>0</td>\n",
              "      <td>0</td>\n",
              "      <td>what  said</td>\n",
              "      <td>[what, said]</td>\n",
              "      <td>[said]</td>\n",
              "      <td>[w, h, a, t, s, a, i, d]</td>\n",
              "      <td>2</td>\n",
              "      <td>8</td>\n",
              "    </tr>\n",
              "    <tr>\n",
              "      <th>1</th>\n",
              "      <td>@VirginAmerica plus you've added commercials t...</td>\n",
              "      <td>Virgin America</td>\n",
              "      <td>positive</td>\n",
              "      <td>NaN</td>\n",
              "      <td>0</td>\n",
              "      <td>0</td>\n",
              "      <td>0</td>\n",
              "      <td>0</td>\n",
              "      <td>0</td>\n",
              "      <td>1</td>\n",
              "      <td>0</td>\n",
              "      <td>0</td>\n",
              "      <td>0</td>\n",
              "      <td>0</td>\n",
              "      <td>0</td>\n",
              "      <td>0</td>\n",
              "      <td>0</td>\n",
              "      <td>0</td>\n",
              "      <td>0</td>\n",
              "      <td>0</td>\n",
              "      <td>plus you ve added commercials to the experien...</td>\n",
              "      <td>[plus, you, ve, added, commercials, to, the, e...</td>\n",
              "      <td>[plus, added, commercials, experience, tacky]</td>\n",
              "      <td>[p, l, u, s, y, o, u, v, e, a, d, d, e, d, c, ...</td>\n",
              "      <td>9</td>\n",
              "      <td>45</td>\n",
              "    </tr>\n",
              "    <tr>\n",
              "      <th>2</th>\n",
              "      <td>@VirginAmerica I didn't today... Must mean I n...</td>\n",
              "      <td>Virgin America</td>\n",
              "      <td>neutral</td>\n",
              "      <td>NaN</td>\n",
              "      <td>0</td>\n",
              "      <td>0</td>\n",
              "      <td>0</td>\n",
              "      <td>0</td>\n",
              "      <td>0</td>\n",
              "      <td>1</td>\n",
              "      <td>0</td>\n",
              "      <td>0</td>\n",
              "      <td>0</td>\n",
              "      <td>0</td>\n",
              "      <td>0</td>\n",
              "      <td>0</td>\n",
              "      <td>0</td>\n",
              "      <td>0</td>\n",
              "      <td>0</td>\n",
              "      <td>0</td>\n",
              "      <td>i didn t today    must mean i need to take an...</td>\n",
              "      <td>[i, didn, t, today, must, mean, i, need, to, t...</td>\n",
              "      <td>[today, must, mean, need, take, another, trip]</td>\n",
              "      <td>[i, d, i, d, n, t, t, o, d, a, y, m, u, s, t, ...</td>\n",
              "      <td>12</td>\n",
              "      <td>41</td>\n",
              "    </tr>\n",
              "    <tr>\n",
              "      <th>3</th>\n",
              "      <td>@VirginAmerica it's really aggressive to blast...</td>\n",
              "      <td>Virgin America</td>\n",
              "      <td>negative</td>\n",
              "      <td>Bad Flight</td>\n",
              "      <td>0</td>\n",
              "      <td>0</td>\n",
              "      <td>0</td>\n",
              "      <td>0</td>\n",
              "      <td>0</td>\n",
              "      <td>1</td>\n",
              "      <td>1</td>\n",
              "      <td>0</td>\n",
              "      <td>0</td>\n",
              "      <td>0</td>\n",
              "      <td>0</td>\n",
              "      <td>0</td>\n",
              "      <td>0</td>\n",
              "      <td>0</td>\n",
              "      <td>0</td>\n",
              "      <td>0</td>\n",
              "      <td>it s really aggressive to blast obnoxious  en...</td>\n",
              "      <td>[it, s, really, aggressive, to, blast, obnoxio...</td>\n",
              "      <td>[really, aggressive, blast, obnoxious, enterta...</td>\n",
              "      <td>[i, t, s, r, e, a, l, l, y, a, g, g, r, e, s, ...</td>\n",
              "      <td>17</td>\n",
              "      <td>90</td>\n",
              "    </tr>\n",
              "    <tr>\n",
              "      <th>4</th>\n",
              "      <td>@VirginAmerica and it's a really big bad thing...</td>\n",
              "      <td>Virgin America</td>\n",
              "      <td>negative</td>\n",
              "      <td>Can't Tell</td>\n",
              "      <td>0</td>\n",
              "      <td>0</td>\n",
              "      <td>0</td>\n",
              "      <td>0</td>\n",
              "      <td>0</td>\n",
              "      <td>1</td>\n",
              "      <td>0</td>\n",
              "      <td>1</td>\n",
              "      <td>0</td>\n",
              "      <td>0</td>\n",
              "      <td>0</td>\n",
              "      <td>0</td>\n",
              "      <td>0</td>\n",
              "      <td>0</td>\n",
              "      <td>0</td>\n",
              "      <td>0</td>\n",
              "      <td>and it s a really big bad thing about it</td>\n",
              "      <td>[and, it, s, a, really, big, bad, thing, about...</td>\n",
              "      <td>[really, big, bad, thing]</td>\n",
              "      <td>[a, n, d, i, t, s, a, r, e, a, l, l, y, b, i, ...</td>\n",
              "      <td>10</td>\n",
              "      <td>31</td>\n",
              "    </tr>\n",
              "  </tbody>\n",
              "</table>\n",
              "</div>\n",
              "      <button class=\"colab-df-convert\" onclick=\"convertToInteractive('df-6677925f-eb19-4b7e-8604-e89bb4a2e444')\"\n",
              "              title=\"Convert this dataframe to an interactive table.\"\n",
              "              style=\"display:none;\">\n",
              "        \n",
              "  <svg xmlns=\"http://www.w3.org/2000/svg\" height=\"24px\"viewBox=\"0 0 24 24\"\n",
              "       width=\"24px\">\n",
              "    <path d=\"M0 0h24v24H0V0z\" fill=\"none\"/>\n",
              "    <path d=\"M18.56 5.44l.94 2.06.94-2.06 2.06-.94-2.06-.94-.94-2.06-.94 2.06-2.06.94zm-11 1L8.5 8.5l.94-2.06 2.06-.94-2.06-.94L8.5 2.5l-.94 2.06-2.06.94zm10 10l.94 2.06.94-2.06 2.06-.94-2.06-.94-.94-2.06-.94 2.06-2.06.94z\"/><path d=\"M17.41 7.96l-1.37-1.37c-.4-.4-.92-.59-1.43-.59-.52 0-1.04.2-1.43.59L10.3 9.45l-7.72 7.72c-.78.78-.78 2.05 0 2.83L4 21.41c.39.39.9.59 1.41.59.51 0 1.02-.2 1.41-.59l7.78-7.78 2.81-2.81c.8-.78.8-2.07 0-2.86zM5.41 20L4 18.59l7.72-7.72 1.47 1.35L5.41 20z\"/>\n",
              "  </svg>\n",
              "      </button>\n",
              "      \n",
              "  <style>\n",
              "    .colab-df-container {\n",
              "      display:flex;\n",
              "      flex-wrap:wrap;\n",
              "      gap: 12px;\n",
              "    }\n",
              "\n",
              "    .colab-df-convert {\n",
              "      background-color: #E8F0FE;\n",
              "      border: none;\n",
              "      border-radius: 50%;\n",
              "      cursor: pointer;\n",
              "      display: none;\n",
              "      fill: #1967D2;\n",
              "      height: 32px;\n",
              "      padding: 0 0 0 0;\n",
              "      width: 32px;\n",
              "    }\n",
              "\n",
              "    .colab-df-convert:hover {\n",
              "      background-color: #E2EBFA;\n",
              "      box-shadow: 0px 1px 2px rgba(60, 64, 67, 0.3), 0px 1px 3px 1px rgba(60, 64, 67, 0.15);\n",
              "      fill: #174EA6;\n",
              "    }\n",
              "\n",
              "    [theme=dark] .colab-df-convert {\n",
              "      background-color: #3B4455;\n",
              "      fill: #D2E3FC;\n",
              "    }\n",
              "\n",
              "    [theme=dark] .colab-df-convert:hover {\n",
              "      background-color: #434B5C;\n",
              "      box-shadow: 0px 1px 3px 1px rgba(0, 0, 0, 0.15);\n",
              "      filter: drop-shadow(0px 1px 2px rgba(0, 0, 0, 0.3));\n",
              "      fill: #FFFFFF;\n",
              "    }\n",
              "  </style>\n",
              "\n",
              "      <script>\n",
              "        const buttonEl =\n",
              "          document.querySelector('#df-6677925f-eb19-4b7e-8604-e89bb4a2e444 button.colab-df-convert');\n",
              "        buttonEl.style.display =\n",
              "          google.colab.kernel.accessAllowed ? 'block' : 'none';\n",
              "\n",
              "        async function convertToInteractive(key) {\n",
              "          const element = document.querySelector('#df-6677925f-eb19-4b7e-8604-e89bb4a2e444');\n",
              "          const dataTable =\n",
              "            await google.colab.kernel.invokeFunction('convertToInteractive',\n",
              "                                                     [key], {});\n",
              "          if (!dataTable) return;\n",
              "\n",
              "          const docLinkHtml = 'Like what you see? Visit the ' +\n",
              "            '<a target=\"_blank\" href=https://colab.research.google.com/notebooks/data_table.ipynb>data table notebook</a>'\n",
              "            + ' to learn more about interactive tables.';\n",
              "          element.innerHTML = '';\n",
              "          dataTable['output_type'] = 'display_data';\n",
              "          await google.colab.output.renderOutput(dataTable, element);\n",
              "          const docLink = document.createElement('div');\n",
              "          docLink.innerHTML = docLinkHtml;\n",
              "          element.appendChild(docLink);\n",
              "        }\n",
              "      </script>\n",
              "    </div>\n",
              "  </div>\n",
              "  "
            ],
            "text/plain": [
              "                                                text  ... char_count\n",
              "0                @VirginAmerica What @dhepburn said.  ...          8\n",
              "1  @VirginAmerica plus you've added commercials t...  ...         45\n",
              "2  @VirginAmerica I didn't today... Must mean I n...  ...         41\n",
              "3  @VirginAmerica it's really aggressive to blast...  ...         90\n",
              "4  @VirginAmerica and it's a really big bad thing...  ...         31\n",
              "\n",
              "[5 rows x 26 columns]"
            ]
          },
          "metadata": {},
          "execution_count": 22
        }
      ]
    },
    {
      "cell_type": "code",
      "metadata": {
        "id": "-RYOWL3z9pzq",
        "colab": {
          "base_uri": "https://localhost:8080/"
        },
        "outputId": "27a79986-922f-40c1-85c9-34acc588ccbe"
      },
      "source": [
        "max = 0\n",
        "total_unique = 0\n",
        "all_text = []\n",
        "\n",
        "for twitte in df['text_stopwords']:\n",
        "  if len(twitte)>max:\n",
        "    max = len(twitte)\n",
        "  all_text.extend(twitte)\n",
        "\n",
        "all_text = set(all_text)\n",
        "vocab_size = len(all_text)\n",
        "print(f'max word count of clean text: {max}\\ntotal unique words after cleaning: {vocab_size}')\n",
        "\n",
        "# change vocab size\n",
        "# vocab_size = 10000"
      ],
      "execution_count": null,
      "outputs": [
        {
          "output_type": "stream",
          "name": "stdout",
          "text": [
            "max word count of clean text: 23\n",
            "total unique words after cleaning: 13210\n"
          ]
        }
      ]
    },
    {
      "cell_type": "markdown",
      "metadata": {
        "id": "nvO1lNx7lkxG"
      },
      "source": [
        ""
      ]
    },
    {
      "cell_type": "code",
      "metadata": {
        "id": "9kR1SOzGAiHb"
      },
      "source": [
        "from keras.preprocessing.text import Tokenizer\n",
        "from keras.preprocessing.sequence import pad_sequences\n",
        "from keras import regularizers\n",
        "\n",
        "max_words = vocab_size\n",
        "max_len = max\n",
        "\n",
        "tokenizer = Tokenizer(num_words=max_words)\n",
        "tokenizer.fit_on_texts(df['text_stopwords'].values)\n",
        "\n",
        "#len(tokenizer.index_word )\n",
        "#tokenizer"
      ],
      "execution_count": null,
      "outputs": []
    },
    {
      "cell_type": "code",
      "metadata": {
        "id": "o9Rrmo63k0EG",
        "colab": {
          "base_uri": "https://localhost:8080/"
        },
        "outputId": "a0deaed3-1f78-478c-b6b3-8441de6ae85b"
      },
      "source": [
        "max_char = 0\n",
        "all_char = []\n",
        "for i in df['text_clean']:\n",
        "  if len(i)>max_char:\n",
        "    max_char = len(i)\n",
        "  all_char.extend(set(i))\n",
        "\n",
        "char_vocab_size = len(set(all_char))\n",
        "\n",
        "print(f'max vocab for char apporach {char_vocab_size}\\nmax char {max_char}')"
      ],
      "execution_count": null,
      "outputs": [
        {
          "output_type": "stream",
          "name": "stdout",
          "text": [
            "max vocab for char apporach 28\n",
            "max char 176\n"
          ]
        }
      ]
    },
    {
      "cell_type": "code",
      "metadata": {
        "id": "zBKSaAvjeMpx"
      },
      "source": [
        "from keras.preprocessing.text import Tokenizer\n",
        "\n",
        "max_words2 = char_vocab_size\n",
        "max_len2 = max_char\n",
        "\n",
        "tokenizer2 = Tokenizer(num_words=max_words2)\n",
        "tokenizer2.fit_on_texts(df['text_char'].values)\n"
      ],
      "execution_count": null,
      "outputs": []
    },
    {
      "cell_type": "code",
      "metadata": {
        "id": "Kr5Ou1Q9XIr6",
        "colab": {
          "base_uri": "https://localhost:8080/"
        },
        "outputId": "6ede93ed-7347-408b-979d-572b5980f7f8"
      },
      "source": [
        "from sklearn.model_selection import train_test_split\n",
        "\n",
        "trainX, testX, trainY, testY = train_test_split(df['text_stopwords'], df['airline_sentiment'], test_size=.2)\n",
        "print(f'train data shape :{trainX.shape}\\ntest data shape:{testX.shape}')"
      ],
      "execution_count": null,
      "outputs": [
        {
          "output_type": "stream",
          "name": "stdout",
          "text": [
            "train data shape :(11712,)\n",
            "test data shape:(2928,)\n"
          ]
        }
      ]
    },
    {
      "cell_type": "code",
      "metadata": {
        "id": "BVpS5DzU2SLS",
        "colab": {
          "base_uri": "https://localhost:8080/"
        },
        "outputId": "26709ada-25f6-414a-f85a-c424d8cb120e"
      },
      "source": [
        "all = airline_negativeReason+['word_count','char_count']\n",
        "print (all)\n",
        "len(all)"
      ],
      "execution_count": null,
      "outputs": [
        {
          "output_type": "stream",
          "name": "stdout",
          "text": [
            "['American', 'Delta', 'Southwest', 'US Airways', 'United', 'Virgin America', 'Bad Flight', \"Can't Tell\", 'Cancelled Flight', 'Customer Service Issue', 'Damaged Luggage', 'Flight Attendant Complaints', 'Flight Booking Problems', 'Late Flight', 'Lost Luggage', 'longlines', 'word_count', 'char_count']\n"
          ]
        },
        {
          "output_type": "execute_result",
          "data": {
            "text/plain": [
              "18"
            ]
          },
          "metadata": {},
          "execution_count": 28
        }
      ]
    },
    {
      "cell_type": "markdown",
      "metadata": {
        "id": "g70uOxAknclV"
      },
      "source": [
        "`TfidfVectorizer` Need to look into it"
      ]
    },
    {
      "cell_type": "code",
      "metadata": {
        "id": "HwI17yKFECVd",
        "colab": {
          "base_uri": "https://localhost:8080/"
        },
        "outputId": "0d062923-2478-4045-9f34-eacd952aed6f"
      },
      "source": [
        "from sklearn.feature_extraction.text import TfidfVectorizer\n",
        "v = TfidfVectorizer(stop_words=stop_words,max_features=1000)\n",
        "x = v.fit_transform(df['text_clean'])\n",
        "print(x)\n",
        "print(x.size)\n",
        "type(x)\n",
        "\n",
        "#x[trainX.index].toarray()\n",
        "#trainX.index\n"
      ],
      "execution_count": null,
      "outputs": [
        {
          "output_type": "stream",
          "name": "stdout",
          "text": [
            "  (0, 748)\t1.0\n",
            "  (1, 290)\t0.46969517618639717\n",
            "  (1, 10)\t0.6690510018068798\n",
            "  (1, 666)\t0.5759836789774861\n",
            "  (2, 896)\t0.363973182340566\n",
            "  (2, 37)\t0.34635681595455964\n",
            "  (2, 844)\t0.34713887390774606\n",
            "  (2, 585)\t0.298124399936757\n",
            "  (2, 542)\t0.4532328675727263\n",
            "  (2, 581)\t0.4831414188093875\n",
            "  (2, 878)\t0.3151686217658198\n",
            "  (3, 505)\t0.5469482477364942\n",
            "  (3, 35)\t0.35792928508789995\n",
            "  (3, 272)\t0.6294711757340604\n",
            "  (3, 702)\t0.4201193641031357\n",
            "  (4, 862)\t0.5490738236536844\n",
            "  (4, 81)\t0.4683661750738641\n",
            "  (4, 93)\t0.5466637636815684\n",
            "  (4, 702)\t0.42462900478241394\n",
            "  (5, 340)\t0.31249761531796605\n",
            "  (5, 761)\t0.34301639209541585\n",
            "  (5, 325)\t0.1586015129548656\n",
            "  (5, 641)\t0.36769503418154564\n",
            "  (5, 987)\t0.27768410361472656\n",
            "  (5, 774)\t0.39967758793643615\n",
            "  :\t:\n",
            "  (14636, 489)\t0.31354956570608067\n",
            "  (14636, 121)\t0.28544027105135483\n",
            "  (14636, 325)\t0.24784785521882827\n",
            "  (14637, 33)\t0.5407162989774352\n",
            "  (14637, 108)\t0.5834401167961911\n",
            "  (14637, 20)\t0.4796108624779139\n",
            "  (14637, 664)\t0.3704010457952073\n",
            "  (14638, 651)\t0.5389361596084128\n",
            "  (14638, 530)\t0.3660487180092064\n",
            "  (14638, 572)\t0.45541005079884717\n",
            "  (14638, 38)\t0.44565669153709053\n",
            "  (14638, 142)\t0.3677797302542955\n",
            "  (14638, 325)\t0.1851648477547388\n",
            "  (14639, 691)\t0.2636289016359957\n",
            "  (14639, 676)\t0.335234848496792\n",
            "  (14639, 816)\t0.3110084936795602\n",
            "  (14639, 534)\t0.2780958826469544\n",
            "  (14639, 643)\t0.2318241641747997\n",
            "  (14639, 928)\t0.19150363492180866\n",
            "  (14639, 667)\t0.3417052921295888\n",
            "  (14639, 593)\t0.4819303615585655\n",
            "  (14639, 472)\t0.22091021004945116\n",
            "  (14639, 761)\t0.24910240822966367\n",
            "  (14639, 325)\t0.23035644789206103\n",
            "  (14639, 585)\t0.20174465635849648\n",
            "96846\n"
          ]
        },
        {
          "output_type": "execute_result",
          "data": {
            "text/plain": [
              "scipy.sparse.csr.csr_matrix"
            ]
          },
          "metadata": {},
          "execution_count": 29
        }
      ]
    },
    {
      "cell_type": "code",
      "metadata": {
        "id": "G-FR_7LYgQFr",
        "colab": {
          "base_uri": "https://localhost:8080/"
        },
        "outputId": "b84af5be-260e-4a88-920a-71d128d1844d"
      },
      "source": [
        "trainX.head()"
      ],
      "execution_count": null,
      "outputs": [
        {
          "output_type": "execute_result",
          "data": {
            "text/plain": [
              "5079     [gotta, new, record, hrs, air, hrs, waiting, b...\n",
              "12017    [going, reported, police, due, sexual, assult,...\n",
              "1702     [bag, state, travel, airports, fly, looks, lik...\n",
              "9143     [thank, reaching, hopefully, request, fixed, r...\n",
              "14216    [flight, cancelled, flightled, website, says, ...\n",
              "Name: text_stopwords, dtype: object"
            ]
          },
          "metadata": {},
          "execution_count": 30
        }
      ]
    },
    {
      "cell_type": "code",
      "metadata": {
        "id": "QO8FDG3anXpd"
      },
      "source": [
        "# CNN\n",
        "trainX2 = df.iloc[trainX.index][all].values\n",
        "testX2 = df.iloc[testX.index][all].values\n",
        "\n",
        "\n"
      ],
      "execution_count": null,
      "outputs": []
    },
    {
      "cell_type": "code",
      "metadata": {
        "id": "hc7wbbTkGzNv",
        "colab": {
          "base_uri": "https://localhost:8080/"
        },
        "outputId": "25f4ebe6-62f9-4530-cc16-f8106ffd6b96"
      },
      "source": [
        "trainX2 = np.hstack((trainX2, x[trainX.index].toarray()))\n",
        "testX2 = np.hstack((testX2, x[testX.index].toarray()))\n",
        "print(testX2.size)\n",
        "print(testX2[0].size)"
      ],
      "execution_count": null,
      "outputs": [
        {
          "output_type": "stream",
          "name": "stdout",
          "text": [
            "2980704\n",
            "1018\n"
          ]
        }
      ]
    },
    {
      "cell_type": "code",
      "metadata": {
        "id": "1e0oYN8yWtAm",
        "colab": {
          "base_uri": "https://localhost:8080/"
        },
        "outputId": "0e22e5c6-6b28-4c25-8ce5-0a9a4197ba61"
      },
      "source": [
        "# for DNN\n",
        "# string to neumerical value\n",
        "trainX = tokenizer.texts_to_sequences(trainX)\n",
        "testX = tokenizer.texts_to_sequences(testX)\n",
        "\n",
        "print(trainX[0])\n",
        "# padding\n",
        "trainX = pad_sequences(trainX, maxlen=max_len)\n",
        "testX = pad_sequences(testX, maxlen=max_len)\n",
        "print(trainX[0])"
      ],
      "execution_count": null,
      "outputs": [
        {
          "output_type": "stream",
          "name": "stdout",
          "text": [
            "[1202, 72, 607, 55, 173, 55, 40, 70, 642, 381]\n",
            "[   0    0    0    0    0    0    0    0    0    0    0    0    0 1202\n",
            "   72  607   55  173   55   40   70  642  381]\n"
          ]
        }
      ]
    },
    {
      "cell_type": "code",
      "metadata": {
        "id": "Xg_1qzMcYTYN",
        "colab": {
          "base_uri": "https://localhost:8080/"
        },
        "outputId": "3b1c955b-4fd7-42fe-f492-cc02f8c8d8e5"
      },
      "source": [
        "from sklearn import preprocessing\n",
        "lb = preprocessing.LabelBinarizer()\n",
        "lb.fit(trainY)\n",
        "\n",
        "print(lb.classes_)\n",
        "print(testY)\n",
        "\n",
        "trainY = lb.transform(trainY)\n",
        "testY = lb.transform(testY)\n",
        "print(testY)"
      ],
      "execution_count": null,
      "outputs": [
        {
          "output_type": "stream",
          "name": "stdout",
          "text": [
            "['negative' 'neutral' 'positive']\n",
            "1831     negative\n",
            "8081     negative\n",
            "12774     neutral\n",
            "8105     positive\n",
            "8668     positive\n",
            "           ...   \n",
            "6831     positive\n",
            "2607     negative\n",
            "9033     negative\n",
            "2374     positive\n",
            "2556     positive\n",
            "Name: airline_sentiment, Length: 2928, dtype: object\n",
            "[[1 0 0]\n",
            " [1 0 0]\n",
            " [0 1 0]\n",
            " ...\n",
            " [1 0 0]\n",
            " [0 0 1]\n",
            " [0 0 1]]\n"
          ]
        }
      ]
    },
    {
      "cell_type": "code",
      "metadata": {
        "id": "b5j34PC84-c5",
        "colab": {
          "base_uri": "https://localhost:8080/"
        },
        "outputId": "8cff07ed-be85-4ebc-8126-d1191fe01bcf"
      },
      "source": [
        "trainX.shape , trainX2.shape"
      ],
      "execution_count": null,
      "outputs": [
        {
          "output_type": "execute_result",
          "data": {
            "text/plain": [
              "((11712, 23), (11712, 1018))"
            ]
          },
          "metadata": {},
          "execution_count": 35
        }
      ]
    },
    {
      "cell_type": "code",
      "metadata": {
        "id": "hfHJRlgvAoc4"
      },
      "source": [
        "from keras import backend as K\n",
        "\n",
        "def recall_m(y_true, y_pred):\n",
        "    true_positives = K.sum(K.round(K.clip(y_true * y_pred, 0, 1)))\n",
        "    possible_positives = K.sum(K.round(K.clip(y_true, 0, 1)))\n",
        "    recall = true_positives / (possible_positives + K.epsilon())\n",
        "    return recall\n",
        "\n",
        "def precision_m(y_true, y_pred):\n",
        "    true_positives = K.sum(K.round(K.clip(y_true * y_pred, 0, 1)))\n",
        "    predicted_positives = K.sum(K.round(K.clip(y_pred, 0, 1)))\n",
        "    precision = true_positives / (predicted_positives + K.epsilon())\n",
        "    return precision\n",
        "\n",
        "def f1_m(y_true, y_pred):\n",
        "    precision = precision_m(y_true, y_pred)\n",
        "    recall = recall_m(y_true, y_pred)\n",
        "    return 2*((precision*recall)/(precision+recall+K.epsilon()))"
      ],
      "execution_count": null,
      "outputs": []
    },
    {
      "cell_type": "code",
      "metadata": {
        "id": "cA-X0eooKFN0",
        "colab": {
          "base_uri": "https://localhost:8080/"
        },
        "outputId": "b4c862d4-bca5-4816-b3b0-c009d1374d4b"
      },
      "source": [
        "from keras import layers\n",
        "from keras.layers import Concatenate\n",
        "from keras.models import Sequential\n",
        "from keras.models import Model\n",
        "\n",
        "n_unique_words = vocab_size\n",
        "maxlen = max\n",
        "batch_size = 200\n",
        "embedding_dim = 128\n",
        "\n",
        "CONCATE_LAYER = 50\n",
        "## dense layers:5\n",
        "DNN = Sequential(name='DNN')\n",
        "DNN.add(layers.Dense(800, input_dim=trainX2.shape[1], activation='relu'))\n",
        "DNN.add(layers.Dense(800, activation='relu'))\n",
        "DNN.add(layers.Dropout(0.3))\n",
        "DNN.add(layers.Dense(600, activation='relu'))\n",
        "DNN.add(layers.Dropout(0.3))\n",
        "DNN.add(layers.Dense(200, activation='relu'))\n",
        "# DNN.add(layers.Embedding(n_unique_words, embedding_dim, input_length=maxlen))\n",
        "# DNN.add(layers.Bidirectional(layers.LSTM(64)))\n",
        "# DNN.add(layers.Dropout(0.5))\n",
        "\n",
        "DNN.add(layers.Dense(CONCATE_LAYER, activation='relu'))\n",
        "\n",
        "## Conv1D: 3 layers ; all relu\n",
        "## Dense : 2\n",
        "## \n",
        "\n",
        "CNN = Sequential(name='CNN')\n",
        "CNN.add(layers.Embedding(n_unique_words, embedding_dim, input_length=max_len))\n",
        "CNN.add(layers.Conv1D(128, 3, activation='relu'))\n",
        "CNN.add(layers.MaxPool1D())\n",
        "CNN.add(layers.Conv1D(128, 3, activation='relu'))\n",
        "CNN.add(layers.MaxPool1D())\n",
        "CNN.add(layers.Conv1D(128, 3, activation='relu'))\n",
        "CNN.add(layers.GlobalMaxPooling1D())\n",
        "CNN.add(layers.Dense(CONCATE_LAYER, activation='relu'))\n",
        "\n",
        "merge = Concatenate()([DNN.output, CNN.output])\n",
        "output = layers.Dense(3, activation = 'softmax')(merge)\n",
        "\n",
        "\n",
        "conc_model = Model([DNN.input, CNN.input], output, name=\"DNN_CNN\")\n",
        "conc_model.summary()\n",
        "\n",
        "## model.compile() : configure the model with loss, optimizer, metrics \n",
        "## model.fit()     : train the model with \n",
        "## model.predict() : Use model to perform predictions\n",
        "conc_model.compile(optimizer='adam', \n",
        "                  loss='categorical_crossentropy',\n",
        "                  metrics=['accuracy', precision_m])"
      ],
      "execution_count": null,
      "outputs": [
        {
          "output_type": "stream",
          "name": "stdout",
          "text": [
            "Model: \"DNN_CNN\"\n",
            "__________________________________________________________________________________________________\n",
            " Layer (type)                   Output Shape         Param #     Connected to                     \n",
            "==================================================================================================\n",
            " embedding_input (InputLayer)   [(None, 23)]         0           []                               \n",
            "                                                                                                  \n",
            " dense_input (InputLayer)       [(None, 1018)]       0           []                               \n",
            "                                                                                                  \n",
            " embedding (Embedding)          (None, 23, 128)      1690880     ['embedding_input[0][0]']        \n",
            "                                                                                                  \n",
            " dense (Dense)                  (None, 800)          815200      ['dense_input[0][0]']            \n",
            "                                                                                                  \n",
            " conv1d (Conv1D)                (None, 21, 128)      49280       ['embedding[0][0]']              \n",
            "                                                                                                  \n",
            " dense_1 (Dense)                (None, 800)          640800      ['dense[0][0]']                  \n",
            "                                                                                                  \n",
            " max_pooling1d (MaxPooling1D)   (None, 10, 128)      0           ['conv1d[0][0]']                 \n",
            "                                                                                                  \n",
            " dropout (Dropout)              (None, 800)          0           ['dense_1[0][0]']                \n",
            "                                                                                                  \n",
            " conv1d_1 (Conv1D)              (None, 8, 128)       49280       ['max_pooling1d[0][0]']          \n",
            "                                                                                                  \n",
            " dense_2 (Dense)                (None, 600)          480600      ['dropout[0][0]']                \n",
            "                                                                                                  \n",
            " max_pooling1d_1 (MaxPooling1D)  (None, 4, 128)      0           ['conv1d_1[0][0]']               \n",
            "                                                                                                  \n",
            " dropout_1 (Dropout)            (None, 600)          0           ['dense_2[0][0]']                \n",
            "                                                                                                  \n",
            " conv1d_2 (Conv1D)              (None, 2, 128)       49280       ['max_pooling1d_1[0][0]']        \n",
            "                                                                                                  \n",
            " dense_3 (Dense)                (None, 200)          120200      ['dropout_1[0][0]']              \n",
            "                                                                                                  \n",
            " global_max_pooling1d (GlobalMa  (None, 128)         0           ['conv1d_2[0][0]']               \n",
            " xPooling1D)                                                                                      \n",
            "                                                                                                  \n",
            " dense_4 (Dense)                (None, 50)           10050       ['dense_3[0][0]']                \n",
            "                                                                                                  \n",
            " dense_5 (Dense)                (None, 50)           6450        ['global_max_pooling1d[0][0]']   \n",
            "                                                                                                  \n",
            " concatenate (Concatenate)      (None, 100)          0           ['dense_4[0][0]',                \n",
            "                                                                  'dense_5[0][0]']                \n",
            "                                                                                                  \n",
            " dense_6 (Dense)                (None, 3)            303         ['concatenate[0][0]']            \n",
            "                                                                                                  \n",
            "==================================================================================================\n",
            "Total params: 3,912,323\n",
            "Trainable params: 3,912,323\n",
            "Non-trainable params: 0\n",
            "__________________________________________________________________________________________________\n"
          ]
        }
      ]
    },
    {
      "cell_type": "code",
      "metadata": {
        "id": "pHLBNh5PP-O4"
      },
      "source": [
        "# conc_model.fit()\n",
        "from keras.callbacks import ReduceLROnPlateau, EarlyStopping\n",
        "\n",
        "callbacks = [ ReduceLROnPlateau(monitor='val_loss', patience=5, cooldown=0),\n",
        "              EarlyStopping(monitor='val_precision_m', patience=5)]"
      ],
      "execution_count": null,
      "outputs": []
    },
    {
      "cell_type": "code",
      "metadata": {
        "id": "diNefmw2cD-g",
        "colab": {
          "base_uri": "https://localhost:8080/"
        },
        "outputId": "dc3f7490-86f8-4d30-8f82-9c919c20e584"
      },
      "source": [
        "%%time\n",
        "epochs = 100\n",
        "history = conc_model.fit([trainX2, trainX], trainY,\n",
        "                    batch_size=batch_size,\n",
        "                    epochs=epochs,\n",
        "                    validation_data=([testX2, testX], testY),\n",
        "                    verbose=1,\n",
        "                    callbacks=callbacks)"
      ],
      "execution_count": null,
      "outputs": [
        {
          "output_type": "stream",
          "name": "stdout",
          "text": [
            "Epoch 1/100\n",
            "59/59 [==============================] - 17s 18ms/step - loss: 0.8620 - accuracy: 0.6287 - precision_m: 0.7102 - val_loss: 0.7387 - val_accuracy: 0.6318 - val_precision_m: 0.8188 - lr: 0.0010\n",
            "Epoch 2/100\n",
            "59/59 [==============================] - 1s 9ms/step - loss: 0.6027 - accuracy: 0.7429 - precision_m: 0.8544 - val_loss: 0.6347 - val_accuracy: 0.7336 - val_precision_m: 0.8169 - lr: 0.0010\n",
            "Epoch 3/100\n",
            "59/59 [==============================] - 1s 10ms/step - loss: 0.4163 - accuracy: 0.8376 - precision_m: 0.8694 - val_loss: 0.6255 - val_accuracy: 0.7490 - val_precision_m: 0.7656 - lr: 0.0010\n",
            "Epoch 4/100\n",
            "59/59 [==============================] - 1s 10ms/step - loss: 0.2531 - accuracy: 0.9016 - precision_m: 0.9155 - val_loss: 0.5571 - val_accuracy: 0.8067 - val_precision_m: 0.8176 - lr: 0.0010\n",
            "Epoch 5/100\n",
            "59/59 [==============================] - 1s 9ms/step - loss: 0.1006 - accuracy: 0.9620 - precision_m: 0.9660 - val_loss: 0.3430 - val_accuracy: 0.8900 - val_precision_m: 0.8914 - lr: 0.0010\n",
            "Epoch 6/100\n",
            "59/59 [==============================] - 1s 10ms/step - loss: 0.0592 - accuracy: 0.9750 - precision_m: 0.9756 - val_loss: 0.3277 - val_accuracy: 0.8982 - val_precision_m: 0.9015 - lr: 0.0010\n",
            "Epoch 7/100\n",
            "59/59 [==============================] - 1s 10ms/step - loss: 0.0472 - accuracy: 0.9834 - precision_m: 0.9834 - val_loss: 0.6545 - val_accuracy: 0.8204 - val_precision_m: 0.8223 - lr: 0.0010\n",
            "Epoch 8/100\n",
            "59/59 [==============================] - 1s 10ms/step - loss: 0.0370 - accuracy: 0.9870 - precision_m: 0.9870 - val_loss: 0.6249 - val_accuracy: 0.8832 - val_precision_m: 0.8843 - lr: 0.0010\n",
            "CPU times: user 8.36 s, sys: 1.48 s, total: 9.84 s\n",
            "Wall time: 21 s\n"
          ]
        }
      ]
    },
    {
      "cell_type": "code",
      "metadata": {
        "id": "vVlmzdzncRq0",
        "colab": {
          "base_uri": "https://localhost:8080/",
          "height": 545
        },
        "outputId": "64951c55-4923-48ef-d51d-2afcc09e0b7c"
      },
      "source": [
        "# Matplot\n",
        "import matplotlib.pyplot as plt\n",
        "%matplotlib inline\n",
        "\n",
        "accuracy = history.history['accuracy']\n",
        "val_accuracy = history.history['val_accuracy']\n",
        "loss = history.history['loss']\n",
        "val_loss = history.history['val_loss']\n",
        " \n",
        "epochs = range(len(accuracy))\n",
        " \n",
        "plt.plot(epochs, accuracy, 'b', label='Training accuracy')\n",
        "plt.plot(epochs, val_accuracy, 'r', label='Validation accuracy')\n",
        "plt.title('Training and validation accuracy')\n",
        "plt.legend()\n",
        " \n",
        "plt.figure()\n",
        " \n",
        "plt.plot(epochs, loss, 'b', label='Training loss')\n",
        "plt.plot(epochs, val_loss, 'r', label='Validation loss')\n",
        "plt.title('Training and validation loss')\n",
        "plt.legend()\n",
        " \n",
        "plt.show()"
      ],
      "execution_count": null,
      "outputs": [
        {
          "output_type": "display_data",
          "data": {
            "image/png": "[encoded data removed]",
            "text/plain": [
              "<Figure size 432x288 with 1 Axes>"
            ]
          },
          "metadata": {
            "needs_background": "light"
          }
        },
        {
          "output_type": "display_data",
          "data": {
            "image/png": "[encoded data removed]",
            "text/plain": [
              "<Figure size 432x288 with 1 Axes>"
            ]
          },
          "metadata": {
            "needs_background": "light"
          }
        }
      ]
    },
    {
      "cell_type": "code",
      "metadata": {
        "id": "DlKFYjXffzpp",
        "colab": {
          "base_uri": "https://localhost:8080/"
        },
        "outputId": "39171bc1-7570-442b-89c0-aba653e9799d"
      },
      "source": [
        "from sklearn.metrics import classification_report\n",
        "\n",
        "y_pred = conc_model.predict([testX2, testX])\n",
        "print(classification_report(lb.inverse_transform(testY), lb.inverse_transform(y_pred)))"
      ],
      "execution_count": null,
      "outputs": [
        {
          "output_type": "stream",
          "name": "stdout",
          "text": [
            "              precision    recall  f1-score   support\n",
            "\n",
            "    negative       0.93      1.00      0.96      1778\n",
            "     neutral       0.76      0.78      0.77       638\n",
            "    positive       0.87      0.60      0.71       512\n",
            "\n",
            "    accuracy                           0.88      2928\n",
            "   macro avg       0.85      0.80      0.82      2928\n",
            "weighted avg       0.88      0.88      0.88      2928\n",
            "\n"
          ]
        }
      ]
    },
    {
      "cell_type": "code",
      "metadata": {
        "id": "KSQj5zXEuBlD"
      },
      "source": [
        "# Confusion matrix\n",
        "from sklearn.metrics import confusion_matrix\n",
        "from sklearn.utils.multiclass import unique_labels\n",
        "def plot_confusion_matrix(y_true, y_pred, classes,\n",
        "                          normalize=False,\n",
        "                          title=None,\n",
        "                          cmap=plt.cm.Blues):\n",
        "    \"\"\"\n",
        "    This function prints and plots the confusion matrix.\n",
        "    Normalization can be applied by setting `normalize=True`.\n",
        "    \"\"\"\n",
        "    if not title:\n",
        "        if normalize:\n",
        "            title = 'Normalized confusion matrix'\n",
        "        else:\n",
        "            title = 'Confusion matrix, without normalization'\n",
        "\n",
        "    # Compute confusion matrix\n",
        "    cm = confusion_matrix(y_true, y_pred)\n",
        "    # Only use the labels that appear in the data\n",
        "    classes = classes[unique_labels(y_true, y_pred)]\n",
        "    if normalize:\n",
        "        cm = cm.astype('float') / cm.sum(axis=1)[:, np.newaxis]\n",
        "        print(\"Normalized confusion matrix\")\n",
        "    else:\n",
        "        print('Confusion matrix, without normalization')\n",
        "\n",
        "    print(cm)\n",
        "\n",
        "    fig, ax = plt.subplots()\n",
        "    im = ax.imshow(cm, interpolation='nearest', cmap=cmap)\n",
        "    ax.figure.colorbar(im, ax=ax)\n",
        "    # We want to show all ticks...\n",
        "    ax.set(xticks=np.arange(cm.shape[1]),\n",
        "           yticks=np.arange(cm.shape[0]),\n",
        "           # ... and label them with the respective list entries\n",
        "           xticklabels=classes, yticklabels=classes,\n",
        "           title=title,\n",
        "           ylabel='True label',\n",
        "           xlabel='Predicted label')\n",
        "\n",
        "    # Rotate the tick labels and set their alignment.\n",
        "    plt.setp(ax.get_xticklabels(), rotation=45, ha=\"right\",\n",
        "             rotation_mode=\"anchor\")\n",
        "\n",
        "    # Loop over data dimensions and create text annotations.\n",
        "    fmt = '.2f' if normalize else 'd'\n",
        "    thresh = cm.max() / 2.\n",
        "    for i in range(cm.shape[0]):\n",
        "        for j in range(cm.shape[1]):\n",
        "            ax.text(j, i, format(cm[i, j], fmt),\n",
        "                    ha=\"center\", va=\"center\",\n",
        "                    color=\"white\" if cm[i, j] > thresh else \"black\")\n",
        "    fig.tight_layout()\n",
        "    return ax\n",
        "\n",
        "\n"
      ],
      "execution_count": null,
      "outputs": []
    },
    {
      "cell_type": "code",
      "metadata": {
        "id": "cd1ImE3kD32p"
      },
      "source": [
        "def convert_to_array_result(y):\n",
        "  y_pred_array = np.zeros(y.shape[0])\n",
        "\n",
        "  # Find class with highest probability\n",
        "  for i in range(0, y.shape[0]):\n",
        "      label_predict = np.argmax(y[i]) # column with max probability\n",
        "      y_pred_array[i] = label_predict\n",
        "\n",
        "  # convert to integers\n",
        "  y_pred_array = y_pred_array.astype(int)\n",
        "  return y_pred_array"
      ],
      "execution_count": null,
      "outputs": []
    },
    {
      "cell_type": "code",
      "metadata": {
        "id": "I0i9lyE2PUkp",
        "colab": {
          "base_uri": "https://localhost:8080/",
          "height": 366
        },
        "outputId": "6ef20476-e6c8-4805-e0cf-cdc163811924"
      },
      "source": [
        "classNames=np.array(['Negative', 'Neutral', 'Positive']);\n",
        "plot_confusion_matrix(convert_to_array_result(testY), convert_to_array_result(y_pred), classes=classNames)\n",
        "#print(testY.shape)\n",
        "#print (y_pred.shape)\n",
        "test=convert_to_array_result(testY)\n",
        "#print(test)"
      ],
      "execution_count": null,
      "outputs": [
        {
          "output_type": "stream",
          "name": "stdout",
          "text": [
            "Confusion matrix, without normalization\n",
            "[[1778    0    0]\n",
            " [  91  499   48]\n",
            " [  49  154  309]]\n"
          ]
        },
        {
          "output_type": "display_data",
          "data": {
            "image/png": "[encoded data removed]",
            "text/plain": [
              "<Figure size 432x288 with 2 Axes>"
            ]
          },
          "metadata": {
            "needs_background": "light"
          }
        }
      ]
    },
    {
      "cell_type": "markdown",
      "metadata": {
        "id": "M9T1o1PY6XOZ"
      },
      "source": [
        "Random tweet check using the model"
      ]
    },
    {
      "cell_type": "code",
      "metadata": {
        "id": "PkLJIa8e6b4Y",
        "colab": {
          "base_uri": "https://localhost:8080/"
        },
        "outputId": "eef9061a-e8ec-4db8-8b03-4f564ba797b6"
      },
      "source": [
        "def cleanup_text_d(df):\n",
        "\tdf['text_clean'] = df['text'].str.lower()\n",
        "\tdf['text_clean'] = np.vectorize(remove_pattern)(df['text_clean'], r\"@[\\w]*\")\n",
        "\tdf['text_clean'] = np.vectorize(remove_pattern)(df['text_clean'], r'^http?:\\/\\/.*[\\r\\n]*')\n",
        "\tdf['text_clean'] = np.vectorize(remove_pattern)(df['text_clean'], r'^https?:\\/\\/.*[\\r\\n]*') \n",
        "\tdf['text_clean'] = df['text_clean'].str.replace(\"[^a-zA-Z#]\", \" \")\n",
        "\ttt = TweetTokenizer()\n",
        "\tdf['text_tokenize'] = df['text_clean'].apply(tt.tokenize)\n",
        "\tstop_words = stopwords.words('english')\n",
        "\n",
        "\tstop_words = [i for i in stop_words if \"'t\" not in i and \"not\" not in i]\n",
        "\tdf['text_stopwords'] = df['text_tokenize'].apply(lambda x: [item for item in x if item not in stop_words])\n",
        "\tdf['text_char'] = df['text_clean'].apply(to_char)\n",
        "\tdf['word_count'] = df['text_tokenize'].str.len()\n",
        "\tdf['char_count'] = df['text_char'].str.len()\n",
        "\t\n",
        "\ttokenizer = Tokenizer(num_words=max_words)\n",
        "\ttokenizer.fit_on_texts(df['text_stopwords'].values)\n",
        "\t\n",
        "\treturn df['text_stopwords']\n",
        "\n",
        "\n",
        "tweet=\"@VirginAmerica Thanks for a wonderfully pleasant trip tonight.\"\n",
        "tweetd = [{'text': tweet}]\n",
        "t_df = pd.DataFrame(tweetd)\n",
        "randomX  = cleanup_text_d(t_df)\n",
        "randomX2 = df.iloc[randomX.index][all].values\n",
        "randomX2 = np.hstack((randomX2, x[randomX.index].toarray()))\n",
        "\n",
        "randomX = tokenizer.texts_to_sequences(randomX)\n",
        "randomX = pad_sequences(randomX, maxlen=max_len)\n",
        "\n",
        "prediction=conc_model([randomX2,randomX])\n",
        "print(prediction)"
      ],
      "execution_count": null,
      "outputs": [
        {
          "output_type": "stream",
          "name": "stdout",
          "text": [
            "tf.Tensor([[2.0151807e-04 2.4417851e-02 9.7538066e-01]], shape=(1, 3), dtype=float32)\n"
          ]
        }
      ]
    },
    {
      "cell_type": "code",
      "metadata": {
        "id": "uVWwgai7gYS4"
      },
      "source": [
        "# conc_model.save(\"/content/drive/My Drive/Colab Notebooks/sentimentModel\")"
      ],
      "execution_count": null,
      "outputs": []
    },
    {
      "cell_type": "code",
      "metadata": {
        "id": "9YJfq7btXeQP",
        "colab": {
          "base_uri": "https://localhost:8080/"
        },
        "outputId": "d044b82c-6585-4a5a-be5c-71cd4842d09a"
      },
      "source": [
        "  result=prediction[0][0]\n",
        "  for i in range(0, 3):\n",
        "      if result>prediction[0][i]:\n",
        "        result=prediction[0][i]\n",
        "      print(prediction[0][i])\n",
        "      print(i) # column with max probability\n",
        "  print(result)"
      ],
      "execution_count": null,
      "outputs": [
        {
          "output_type": "stream",
          "name": "stdout",
          "text": [
            "tf.Tensor(0.00020151807, shape=(), dtype=float32)\n",
            "0\n",
            "tf.Tensor(0.024417851, shape=(), dtype=float32)\n",
            "1\n",
            "tf.Tensor(0.97538066, shape=(), dtype=float32)\n",
            "2\n",
            "tf.Tensor(0.00020151807, shape=(), dtype=float32)\n"
          ]
        }
      ]
    },
    {
      "cell_type": "code",
      "source": [
        ""
      ],
      "metadata": {
        "id": "wJ_CHP36AHSi"
      },
      "execution_count": null,
      "outputs": []
    }
  ]
}